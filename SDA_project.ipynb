{
 "cells": [
  {
   "cell_type": "markdown",
   "metadata": {},
   "source": [
    "### Initialization"
   ]
  },
  {
   "cell_type": "code",
   "execution_count": 77,
   "metadata": {
    "tags": []
   },
   "outputs": [],
   "source": [
    "# Loading all the libraries\n",
    "import pandas as pd\n",
    "from matplotlib import pyplot as plt\n",
    "import numpy as np\n",
    "import seaborn as sns\n",
    "from scipy import stats as st"
   ]
  },
  {
   "cell_type": "markdown",
   "metadata": {},
   "source": [
    "### Step 1: Load data"
   ]
  },
  {
   "cell_type": "code",
   "execution_count": 78,
   "metadata": {
    "tags": []
   },
   "outputs": [],
   "source": [
    "# Load the data files into different DataFrames\n",
    "\n",
    "## Plans\n",
    "plans= pd.read_csv('megaline_plans.csv', sep=',')"
   ]
  },
  {
   "cell_type": "code",
   "execution_count": 79,
   "metadata": {
    "tags": []
   },
   "outputs": [],
   "source": [
    "## Users\n",
    "users=pd.read_csv('megaline_users.csv ', sep=',')"
   ]
  },
  {
   "cell_type": "code",
   "execution_count": 80,
   "metadata": {
    "tags": []
   },
   "outputs": [],
   "source": [
    "## Calls\n",
    "calls= pd.read_csv('megaline_calls.csv ', sep=',')"
   ]
  },
  {
   "cell_type": "code",
   "execution_count": 81,
   "metadata": {
    "tags": []
   },
   "outputs": [],
   "source": [
    "## Messages\n",
    "messages= pd.read_csv('megaline_messages.csv ', sep=',')"
   ]
  },
  {
   "cell_type": "code",
   "execution_count": 82,
   "metadata": {
    "tags": []
   },
   "outputs": [],
   "source": [
    "## Internet\n",
    "internet=pd.read_csv('megaline_internet.csv ', sep=',')"
   ]
  },
  {
   "cell_type": "markdown",
   "metadata": {},
   "source": [
    "### Step 2: Prepare the data"
   ]
  },
  {
   "cell_type": "markdown",
   "metadata": {},
   "source": [
    "#### 2.1) Plans dataframe"
   ]
  },
  {
   "cell_type": "code",
   "execution_count": 83,
   "metadata": {
    "tags": []
   },
   "outputs": [
    {
     "name": "stdout",
     "output_type": "stream",
     "text": [
      "<class 'pandas.core.frame.DataFrame'>\n",
      "RangeIndex: 2 entries, 0 to 1\n",
      "Data columns (total 8 columns):\n",
      " #   Column                 Non-Null Count  Dtype  \n",
      "---  ------                 --------------  -----  \n",
      " 0   messages_included      2 non-null      int64  \n",
      " 1   mb_per_month_included  2 non-null      int64  \n",
      " 2   minutes_included       2 non-null      int64  \n",
      " 3   usd_monthly_pay        2 non-null      int64  \n",
      " 4   usd_per_gb             2 non-null      int64  \n",
      " 5   usd_per_message        2 non-null      float64\n",
      " 6   usd_per_minute         2 non-null      float64\n",
      " 7   plan_name              2 non-null      object \n",
      "dtypes: float64(2), int64(5), object(1)\n",
      "memory usage: 260.0+ bytes\n"
     ]
    },
    {
     "data": {
      "text/html": [
       "<div>\n",
       "<style scoped>\n",
       "    .dataframe tbody tr th:only-of-type {\n",
       "        vertical-align: middle;\n",
       "    }\n",
       "\n",
       "    .dataframe tbody tr th {\n",
       "        vertical-align: top;\n",
       "    }\n",
       "\n",
       "    .dataframe thead th {\n",
       "        text-align: right;\n",
       "    }\n",
       "</style>\n",
       "<table border=\"1\" class=\"dataframe\">\n",
       "  <thead>\n",
       "    <tr style=\"text-align: right;\">\n",
       "      <th></th>\n",
       "      <th>messages_included</th>\n",
       "      <th>mb_per_month_included</th>\n",
       "      <th>minutes_included</th>\n",
       "      <th>usd_monthly_pay</th>\n",
       "      <th>usd_per_gb</th>\n",
       "      <th>usd_per_message</th>\n",
       "      <th>usd_per_minute</th>\n",
       "      <th>plan_name</th>\n",
       "    </tr>\n",
       "  </thead>\n",
       "  <tbody>\n",
       "    <tr>\n",
       "      <th>0</th>\n",
       "      <td>50</td>\n",
       "      <td>15360</td>\n",
       "      <td>500</td>\n",
       "      <td>20</td>\n",
       "      <td>10</td>\n",
       "      <td>0.03</td>\n",
       "      <td>0.03</td>\n",
       "      <td>surf</td>\n",
       "    </tr>\n",
       "    <tr>\n",
       "      <th>1</th>\n",
       "      <td>1000</td>\n",
       "      <td>30720</td>\n",
       "      <td>3000</td>\n",
       "      <td>70</td>\n",
       "      <td>7</td>\n",
       "      <td>0.01</td>\n",
       "      <td>0.01</td>\n",
       "      <td>ultimate</td>\n",
       "    </tr>\n",
       "  </tbody>\n",
       "</table>\n",
       "</div>"
      ],
      "text/plain": [
       "   messages_included  mb_per_month_included  minutes_included  \\\n",
       "0                 50                  15360               500   \n",
       "1               1000                  30720              3000   \n",
       "\n",
       "   usd_monthly_pay  usd_per_gb  usd_per_message  usd_per_minute plan_name  \n",
       "0               20          10             0.03            0.03      surf  \n",
       "1               70           7             0.01            0.01  ultimate  "
      ]
     },
     "execution_count": 83,
     "metadata": {},
     "output_type": "execute_result"
    }
   ],
   "source": [
    "# Print the general/summary information about the plans' DataFrame\n",
    "\n",
    "plans.info()\n",
    "plans"
   ]
  },
  {
   "cell_type": "markdown",
   "metadata": {},
   "source": [
    "#### Fix data"
   ]
  },
  {
   "cell_type": "markdown",
   "metadata": {},
   "source": [
    "[Fixing obvious issues with the data given the initial observations.]"
   ]
  },
  {
   "cell_type": "code",
   "execution_count": 84,
   "metadata": {
    "tags": []
   },
   "outputs": [],
   "source": [
    "## Convert variables to float:\n",
    "\n",
    "plans['usd_monthly_pay'] = plans['usd_monthly_pay'].astype('float')\n",
    "\n",
    "\n",
    "plans['usd_per_gb'] = plans['usd_per_gb'].astype('float')\n"
   ]
  },
  {
   "cell_type": "markdown",
   "metadata": {},
   "source": [
    "#### Enrich data"
   ]
  },
  {
   "cell_type": "markdown",
   "metadata": {},
   "source": [
    "No need to enrich any data in this data frame."
   ]
  },
  {
   "cell_type": "markdown",
   "metadata": {},
   "source": [
    "#### 2.2) Users dataframe"
   ]
  },
  {
   "cell_type": "code",
   "execution_count": 85,
   "metadata": {
    "tags": []
   },
   "outputs": [
    {
     "name": "stdout",
     "output_type": "stream",
     "text": [
      "<class 'pandas.core.frame.DataFrame'>\n",
      "RangeIndex: 500 entries, 0 to 499\n",
      "Data columns (total 8 columns):\n",
      " #   Column      Non-Null Count  Dtype \n",
      "---  ------      --------------  ----- \n",
      " 0   user_id     500 non-null    int64 \n",
      " 1   first_name  500 non-null    object\n",
      " 2   last_name   500 non-null    object\n",
      " 3   age         500 non-null    int64 \n",
      " 4   city        500 non-null    object\n",
      " 5   reg_date    500 non-null    object\n",
      " 6   plan        500 non-null    object\n",
      " 7   churn_date  34 non-null     object\n",
      "dtypes: int64(2), object(6)\n",
      "memory usage: 31.4+ KB\n"
     ]
    }
   ],
   "source": [
    "# Print the general/summary information about the users' DataFrame\n",
    "users.info()\n"
   ]
  },
  {
   "cell_type": "code",
   "execution_count": 86,
   "metadata": {
    "tags": []
   },
   "outputs": [
    {
     "name": "stdout",
     "output_type": "stream",
     "text": [
      "     user_id first_name  last_name  age  \\\n",
      "18      1018     Dennis     Grimes   70   \n",
      "21      1021    Ricarda     Booker   37   \n",
      "461     1461     Rupert    Santana   54   \n",
      "332     1332      Lucas   Saunders   37   \n",
      "379     1379    Jarrett    Spencer   34   \n",
      "176     1176   Terrance    Shaffer   75   \n",
      "24      1024       Yuki      Tyson   74   \n",
      "445     1445     Elodia    Donovan   71   \n",
      "282     1282     Annice    Calhoun   61   \n",
      "444     1444     Glinda  Dickerson   70   \n",
      "57      1057       Theo    Sargent   18   \n",
      "36      1036      Myron      Hodge   70   \n",
      "373     1373    Lindsey  Dickerson   21   \n",
      "384     1384  Dominique       Good   36   \n",
      "158     1158      Robin   Thornton   20   \n",
      "52      1052     Edmond    Hopkins   47   \n",
      "67      1067       Robt      Allen   37   \n",
      "246     1246     Stevie      Moran   69   \n",
      "385     1385     Nohemi   Erickson   52   \n",
      "167     1167   Rebbecca  Nicholson   47   \n",
      "\n",
      "                                                city    reg_date      plan  \\\n",
      "18              Indianapolis-Carmel-Anderson, IN MSA  2018-10-17      surf   \n",
      "21            Los Angeles-Long Beach-Anaheim, CA MSA  2018-12-21      surf   \n",
      "461                               Pittsburgh, PA MSA  2018-09-14      surf   \n",
      "332            Atlanta-Sandy Springs-Roswell, GA MSA  2018-03-12      surf   \n",
      "379                    Grand Rapids-Kentwood, MI MSA  2018-10-18      surf   \n",
      "176        New York-Newark-Jersey City, NY-NJ-PA MSA  2018-10-03      surf   \n",
      "24         New York-Newark-Jersey City, NY-NJ-PA MSA  2018-08-21      surf   \n",
      "445              Dallas-Fort Worth-Arlington, TX MSA  2018-01-27  ultimate   \n",
      "282           San Francisco-Oakland-Berkeley, CA MSA  2018-11-01  ultimate   \n",
      "444                        New Haven-Milford, CT MSA  2018-06-20      surf   \n",
      "57             Atlanta-Sandy Springs-Roswell, GA MSA  2018-08-07  ultimate   \n",
      "36                    Denver-Aurora-Lakewood, CO MSA  2018-05-09  ultimate   \n",
      "373      Minneapolis-St. Paul-Bloomington, MN-WI MSA  2018-08-30  ultimate   \n",
      "384  Philadelphia-Camden-Wilmington, PA-NJ-DE-MD MSA  2018-06-09  ultimate   \n",
      "158   Virginia Beach-Norfolk-Newport News, VA-NC MSA  2018-11-30  ultimate   \n",
      "52          Houston-The Woodlands-Sugar Land, TX MSA  2018-03-05      surf   \n",
      "67                     Grand Rapids-Kentwood, MI MSA  2018-09-24      surf   \n",
      "246          Tampa-St. Petersburg-Clearwater, FL MSA  2018-01-09  ultimate   \n",
      "385        New York-Newark-Jersey City, NY-NJ-PA MSA  2018-01-19      surf   \n",
      "167                   Denver-Aurora-Lakewood, CO MSA  2018-04-06      surf   \n",
      "\n",
      "     churn_date  \n",
      "18          NaN  \n",
      "21          NaN  \n",
      "461         NaN  \n",
      "332         NaN  \n",
      "379         NaN  \n",
      "176         NaN  \n",
      "24          NaN  \n",
      "445         NaN  \n",
      "282         NaN  \n",
      "444         NaN  \n",
      "57          NaN  \n",
      "36          NaN  \n",
      "373         NaN  \n",
      "384         NaN  \n",
      "158         NaN  \n",
      "52          NaN  \n",
      "67   2018-11-24  \n",
      "246  2018-07-31  \n",
      "385         NaN  \n",
      "167         NaN  \n"
     ]
    }
   ],
   "source": [
    "# Print a sample of data for users\n",
    "\n",
    "print(users.sample(20, random_state=1369)) # n=2 because only two rows"
   ]
  },
  {
   "cell_type": "markdown",
   "metadata": {},
   "source": [
    "There are only missing values for churn_date. But this is a date-time format so I will not fill missing values.\n",
    "\n",
    "reg_date and churn_date need to be converted to date-time format.\n",
    "\n",
    "The city column should be seperated into name of city and state. There seems to be a mistake in the \"MSA\" and likely should be \"USA\". It will be easier to drop country, since this sample is from the USA."
   ]
  },
  {
   "cell_type": "markdown",
   "metadata": {
    "tags": []
   },
   "source": [
    "#### Fix Data"
   ]
  },
  {
   "cell_type": "markdown",
   "metadata": {},
   "source": [
    "[Fixing obvious issues with the data given the initial observations.]"
   ]
  },
  {
   "cell_type": "code",
   "execution_count": 87,
   "metadata": {
    "tags": []
   },
   "outputs": [
    {
     "name": "stdout",
     "output_type": "stream",
     "text": [
      "0\n"
     ]
    }
   ],
   "source": [
    "# Check for fully duplicate rows\n",
    "\n",
    "print(users.duplicated().sum())"
   ]
  },
  {
   "cell_type": "code",
   "execution_count": 88,
   "metadata": {},
   "outputs": [],
   "source": [
    "## Convert to date time format\n",
    "\n",
    "users['churn_date'] = pd.to_datetime(users['churn_date'], format='%Y-%m-%d')"
   ]
  },
  {
   "cell_type": "code",
   "execution_count": 89,
   "metadata": {
    "tags": []
   },
   "outputs": [],
   "source": [
    "## Convert to date time format\n",
    "\n",
    "users['reg_date'] = pd.to_datetime(users['reg_date'], format='%Y-%m-%d')"
   ]
  },
  {
   "cell_type": "markdown",
   "metadata": {},
   "source": [
    "#### Enrich Data"
   ]
  },
  {
   "cell_type": "code",
   "execution_count": 90,
   "metadata": {},
   "outputs": [
    {
     "name": "stdout",
     "output_type": "stream",
     "text": [
      "<class 'pandas.core.frame.DataFrame'>\n",
      "RangeIndex: 500 entries, 0 to 499\n",
      "Data columns (total 9 columns):\n",
      " #   Column      Non-Null Count  Dtype         \n",
      "---  ------      --------------  -----         \n",
      " 0   user_id     500 non-null    int64         \n",
      " 1   first_name  500 non-null    object        \n",
      " 2   last_name   500 non-null    object        \n",
      " 3   age         500 non-null    int64         \n",
      " 4   city        500 non-null    object        \n",
      " 5   reg_date    500 non-null    datetime64[ns]\n",
      " 6   plan        500 non-null    object        \n",
      " 7   churn_date  34 non-null     datetime64[ns]\n",
      " 8   state_info  500 non-null    object        \n",
      "dtypes: datetime64[ns](2), int64(2), object(5)\n",
      "memory usage: 35.3+ KB\n"
     ]
    }
   ],
   "source": [
    "## Separate the city column: \n",
    "\n",
    "# Split the city column\n",
    "users[['city', 'state_info']] = users['city'].str.split(',', expand=True)\n",
    "\n",
    "users.info()\n",
    "\n"
   ]
  },
  {
   "cell_type": "markdown",
   "metadata": {},
   "source": [
    "#### 2.3) Calls dataframe"
   ]
  },
  {
   "cell_type": "code",
   "execution_count": 92,
   "metadata": {},
   "outputs": [
    {
     "name": "stdout",
     "output_type": "stream",
     "text": [
      "<class 'pandas.core.frame.DataFrame'>\n",
      "RangeIndex: 137735 entries, 0 to 137734\n",
      "Data columns (total 4 columns):\n",
      " #   Column     Non-Null Count   Dtype  \n",
      "---  ------     --------------   -----  \n",
      " 0   id         137735 non-null  object \n",
      " 1   user_id    137735 non-null  int64  \n",
      " 2   call_date  137735 non-null  object \n",
      " 3   duration   137735 non-null  float64\n",
      "dtypes: float64(1), int64(1), object(2)\n",
      "memory usage: 4.2+ MB\n"
     ]
    }
   ],
   "source": [
    "# Print the general/summary information about the calls' DataFrame\n",
    "\n",
    "calls.info()\n",
    "#calls"
   ]
  },
  {
   "cell_type": "code",
   "execution_count": 93,
   "metadata": {},
   "outputs": [
    {
     "name": "stdout",
     "output_type": "stream",
     "text": [
      "              id  user_id   call_date  duration\n",
      "21799   1079_512     1079  2018-10-04      0.00\n",
      "88114   1324_160     1324  2018-12-18     14.40\n",
      "63111    1228_35     1228  2018-12-03      0.00\n",
      "65462    1237_69     1237  2018-09-02     10.57\n",
      "119780  1417_433     1417  2018-08-13     10.42\n",
      "25727    1099_45     1099  2018-10-27      7.68\n",
      "75702   1268_206     1268  2018-03-16      8.18\n",
      "89497   1326_148     1326  2018-09-23      6.09\n",
      "28358   1107_164     1107  2018-11-26     12.74\n",
      "4567     1020_17     1020  2018-12-03      0.33\n"
     ]
    }
   ],
   "source": [
    "# Print a sample of data for calls\n",
    "\n",
    "print(calls.sample(10, random_state=1369)) "
   ]
  },
  {
   "cell_type": "markdown",
   "metadata": {},
   "source": [
    "id — unique call identifier: this is an identifier so I will convert to interger data type.\n",
    "\n",
    "user_id: this is an identifier so I will convert to interger data type.\n",
    "\n",
    "call_date needs to be converted ot date time type."
   ]
  },
  {
   "cell_type": "markdown",
   "metadata": {},
   "source": [
    "#### Fix data"
   ]
  },
  {
   "cell_type": "markdown",
   "metadata": {},
   "source": [
    "[Fixing obvious issues with the data given the initial observations.]"
   ]
  },
  {
   "cell_type": "code",
   "execution_count": 94,
   "metadata": {
    "tags": []
   },
   "outputs": [
    {
     "name": "stdout",
     "output_type": "stream",
     "text": [
      "0\n"
     ]
    }
   ],
   "source": [
    "# Check for fully duplicate rows\n",
    "\n",
    "print(calls.duplicated().sum())"
   ]
  },
  {
   "cell_type": "code",
   "execution_count": 95,
   "metadata": {},
   "outputs": [],
   "source": [
    "calls['id'] = calls['id'].astype('int')"
   ]
  },
  {
   "cell_type": "code",
   "execution_count": 96,
   "metadata": {
    "tags": []
   },
   "outputs": [],
   "source": [
    "calls['user_id'] = calls['user_id'].astype('int')"
   ]
  },
  {
   "cell_type": "code",
   "execution_count": 97,
   "metadata": {
    "tags": []
   },
   "outputs": [],
   "source": [
    "calls['call_date'] = pd.to_datetime(calls['call_date'], format='%Y-%m-%d')"
   ]
  },
  {
   "cell_type": "code",
   "execution_count": 98,
   "metadata": {
    "tags": []
   },
   "outputs": [
    {
     "name": "stdout",
     "output_type": "stream",
     "text": [
      "<class 'pandas.core.frame.DataFrame'>\n",
      "RangeIndex: 137735 entries, 0 to 137734\n",
      "Data columns (total 4 columns):\n",
      " #   Column     Non-Null Count   Dtype         \n",
      "---  ------     --------------   -----         \n",
      " 0   id         137735 non-null  int32         \n",
      " 1   user_id    137735 non-null  int32         \n",
      " 2   call_date  137735 non-null  datetime64[ns]\n",
      " 3   duration   137735 non-null  float64       \n",
      "dtypes: datetime64[ns](1), float64(1), int32(2)\n",
      "memory usage: 3.2 MB\n"
     ]
    }
   ],
   "source": [
    "calls.info()"
   ]
  },
  {
   "cell_type": "code",
   "execution_count": 99,
   "metadata": {
    "tags": []
   },
   "outputs": [],
   "source": [
    "## round up floating call duration to nearest interger\n",
    "\n",
    "calls['duration'] = np.ceil(calls['duration'])\n",
    "\n",
    "calls['duration'] = calls['duration'].astype('int')"
   ]
  },
  {
   "cell_type": "code",
   "execution_count": 100,
   "metadata": {
    "tags": []
   },
   "outputs": [
    {
     "name": "stdout",
     "output_type": "stream",
     "text": [
      "<class 'pandas.core.frame.DataFrame'>\n",
      "RangeIndex: 137735 entries, 0 to 137734\n",
      "Data columns (total 4 columns):\n",
      " #   Column     Non-Null Count   Dtype         \n",
      "---  ------     --------------   -----         \n",
      " 0   id         137735 non-null  int32         \n",
      " 1   user_id    137735 non-null  int32         \n",
      " 2   call_date  137735 non-null  datetime64[ns]\n",
      " 3   duration   137735 non-null  int32         \n",
      "dtypes: datetime64[ns](1), int32(3)\n",
      "memory usage: 2.6 MB\n"
     ]
    }
   ],
   "source": [
    "calls.info()"
   ]
  },
  {
   "cell_type": "markdown",
   "metadata": {},
   "source": [
    "#### Enrich data"
   ]
  },
  {
   "cell_type": "code",
   "execution_count": 101,
   "metadata": {},
   "outputs": [],
   "source": [
    "## It may be helpful to have seperate columns for days of week, month, and year\n",
    "\n",
    "##Day of the Week: Add a column for the day of the week\n",
    "calls['day_of_week'] = calls['call_date'].dt.day_name()\n",
    "\n",
    "##Month: Add a column for the month\n",
    "calls['month'] = calls['call_date'].dt.month\n",
    "\n",
    "##Year: Add a column for the year\n",
    "calls['year'] = calls['call_date'].dt.year"
   ]
  },
  {
   "cell_type": "code",
   "execution_count": 102,
   "metadata": {
    "tags": []
   },
   "outputs": [],
   "source": [
    "## change duration column name to make it more descriptive\n",
    "\n",
    "calls['call_total_minutes']= calls['duration']\n",
    "\n",
    "## change id column to make it more descriptive\n",
    "calls['number_calls']= calls['id']"
   ]
  },
  {
   "cell_type": "code",
   "execution_count": 103,
   "metadata": {
    "tags": []
   },
   "outputs": [
    {
     "name": "stdout",
     "output_type": "stream",
     "text": [
      "<class 'pandas.core.frame.DataFrame'>\n",
      "RangeIndex: 137735 entries, 0 to 137734\n",
      "Data columns (total 9 columns):\n",
      " #   Column              Non-Null Count   Dtype         \n",
      "---  ------              --------------   -----         \n",
      " 0   id                  137735 non-null  int32         \n",
      " 1   user_id             137735 non-null  int32         \n",
      " 2   call_date           137735 non-null  datetime64[ns]\n",
      " 3   duration            137735 non-null  int32         \n",
      " 4   day_of_week         137735 non-null  object        \n",
      " 5   month               137735 non-null  int32         \n",
      " 6   year                137735 non-null  int32         \n",
      " 7   call_total_minutes  137735 non-null  int32         \n",
      " 8   number_calls        137735 non-null  int32         \n",
      "dtypes: datetime64[ns](1), int32(7), object(1)\n",
      "memory usage: 5.8+ MB\n"
     ]
    }
   ],
   "source": [
    "\n",
    "calls.info()"
   ]
  },
  {
   "cell_type": "markdown",
   "metadata": {},
   "source": [
    "#### 2.4) Messages dataframe"
   ]
  },
  {
   "cell_type": "code",
   "execution_count": 104,
   "metadata": {},
   "outputs": [
    {
     "name": "stdout",
     "output_type": "stream",
     "text": [
      "<class 'pandas.core.frame.DataFrame'>\n",
      "RangeIndex: 76051 entries, 0 to 76050\n",
      "Data columns (total 3 columns):\n",
      " #   Column        Non-Null Count  Dtype \n",
      "---  ------        --------------  ----- \n",
      " 0   id            76051 non-null  object\n",
      " 1   user_id       76051 non-null  int64 \n",
      " 2   message_date  76051 non-null  object\n",
      "dtypes: int64(1), object(2)\n",
      "memory usage: 1.7+ MB\n"
     ]
    }
   ],
   "source": [
    "# Print the general/summary information about the messages' DataFrame\n",
    "\n",
    "messages.info()"
   ]
  },
  {
   "cell_type": "code",
   "execution_count": 105,
   "metadata": {},
   "outputs": [
    {
     "name": "stdout",
     "output_type": "stream",
     "text": [
      "              id  user_id message_date\n",
      "25082    1148_85     1148   2018-12-18\n",
      "3636     1037_33     1037   2018-12-28\n",
      "25108   1148_129     1148   2018-12-05\n",
      "50256  1328_1214     1328   2018-10-16\n",
      "16147    1110_38     1110   2018-09-23\n",
      "8328    1061_334     1061   2018-07-28\n",
      "69600    1453_48     1453   2018-11-20\n",
      "31437   1195_304     1195   2018-09-29\n",
      "6119    1055_237     1055   2018-06-17\n",
      "33040    1206_17     1206   2018-08-28\n",
      "53189   1339_323     1339   2018-10-27\n",
      "51409   1334_127     1334   2018-09-30\n",
      "23264    1141_31     1141   2018-07-01\n",
      "36420    1242_92     1242   2018-10-30\n",
      "6832    1057_156     1057   2018-11-14\n",
      "12648   1082_213     1082   2018-12-20\n",
      "62858    1398_32     1398   2018-12-18\n",
      "38628   1254_127     1254   2018-09-27\n",
      "37401   1247_565     1247   2018-11-12\n",
      "45705   1312_189     1312   2018-06-07\n"
     ]
    }
   ],
   "source": [
    "# Print a sample of data for messages\n",
    "\n",
    "print(messages.sample(20, random_state=1369)) # n=2 because only two rows"
   ]
  },
  {
   "cell_type": "markdown",
   "metadata": {},
   "source": [
    " ID should be converted to interger data type.\n",
    " \n",
    " message_date should be converted to date_time format."
   ]
  },
  {
   "cell_type": "markdown",
   "metadata": {},
   "source": [
    "#### Fix data"
   ]
  },
  {
   "cell_type": "markdown",
   "metadata": {},
   "source": [
    "[Fixing obvious issues with the data given the initial observations.]"
   ]
  },
  {
   "cell_type": "code",
   "execution_count": 106,
   "metadata": {
    "tags": []
   },
   "outputs": [
    {
     "name": "stdout",
     "output_type": "stream",
     "text": [
      "0\n"
     ]
    }
   ],
   "source": [
    "# Check for fully duplicate rows\n",
    "\n",
    "print(messages.duplicated().sum())"
   ]
  },
  {
   "cell_type": "code",
   "execution_count": 107,
   "metadata": {},
   "outputs": [],
   "source": [
    "# convert id to int data type\n",
    "messages['id'] = messages['id'].astype('int')\n"
   ]
  },
  {
   "cell_type": "code",
   "execution_count": 108,
   "metadata": {
    "tags": []
   },
   "outputs": [],
   "source": [
    "# convert message_date to date time format\n",
    "\n",
    "messages['message_date'] = pd.to_datetime(messages['message_date'], format='%Y-%m-%d')\n"
   ]
  },
  {
   "cell_type": "markdown",
   "metadata": {},
   "source": [
    "#### Enrich data"
   ]
  },
  {
   "cell_type": "code",
   "execution_count": 109,
   "metadata": {},
   "outputs": [],
   "source": [
    "## It may be helpful to have seperate columns for days of week, month, and year\n",
    "\n",
    "##Day of the Week: Add a column for the day of the week\n",
    "messages['day_of_week'] = messages['message_date'].dt.day_name()\n",
    "\n",
    "##Month: Add a column for the month\n",
    "messages['month'] = messages['message_date'].dt.month\n",
    "\n",
    "##Year: Add a column for the year\n",
    "messages['year'] = messages['message_date'].dt.year"
   ]
  },
  {
   "cell_type": "code",
   "execution_count": 110,
   "metadata": {},
   "outputs": [],
   "source": [
    "## change id column name to make it more descriptive\n",
    "\n",
    "messages['number_messages']= messages['id']\n"
   ]
  },
  {
   "cell_type": "markdown",
   "metadata": {},
   "source": [
    "#### 2.5) Internet dataframe"
   ]
  },
  {
   "cell_type": "code",
   "execution_count": 111,
   "metadata": {},
   "outputs": [
    {
     "name": "stdout",
     "output_type": "stream",
     "text": [
      "<class 'pandas.core.frame.DataFrame'>\n",
      "RangeIndex: 104825 entries, 0 to 104824\n",
      "Data columns (total 4 columns):\n",
      " #   Column        Non-Null Count   Dtype  \n",
      "---  ------        --------------   -----  \n",
      " 0   id            104825 non-null  object \n",
      " 1   user_id       104825 non-null  int64  \n",
      " 2   session_date  104825 non-null  object \n",
      " 3   mb_used       104825 non-null  float64\n",
      "dtypes: float64(1), int64(1), object(2)\n",
      "memory usage: 3.2+ MB\n"
     ]
    }
   ],
   "source": [
    "# Print the general/summary information about the internet DataFrame\n",
    "\n",
    "internet.info()"
   ]
  },
  {
   "cell_type": "code",
   "execution_count": 112,
   "metadata": {},
   "outputs": [
    {
     "name": "stdout",
     "output_type": "stream",
     "text": [
      "              id  user_id session_date  mb_used\n",
      "103534  1495_146     1495   2018-11-20   314.62\n",
      "39127   1175_358     1175   2018-10-31   774.55\n",
      "22563   1103_108     1103   2018-09-05    47.78\n",
      "104611    1499_6     1499   2018-10-05   172.77\n",
      "78112   1364_208     1364   2018-11-23     0.00\n",
      "13868   1064_316     1064   2018-11-07   571.03\n",
      "19017    1085_91     1085   2018-11-28   358.64\n",
      "37272   1167_195     1167   2018-07-16   255.55\n",
      "17849   1080_180     1080   2018-12-02   545.91\n",
      "61839    1281_20     1281   2018-09-26   301.52\n",
      "85972   1400_103     1400   2018-11-11   492.37\n",
      "31177   1142_177     1142   2018-10-31   716.71\n",
      "6065    1033_126     1033   2018-12-25   237.67\n",
      "45363   1201_225     1201   2018-09-07   124.49\n",
      "7380    1041_220     1041   2018-05-10   142.67\n",
      "86348   1400_485     1400   2018-05-12   414.89\n",
      "62739    1289_26     1289   2018-12-14   476.25\n",
      "103054  1493_172     1493   2018-12-06   588.07\n",
      "50538    1226_19     1226   2018-12-23   419.64\n",
      "14546   1066_440     1066   2018-03-13   606.93\n"
     ]
    }
   ],
   "source": [
    "# Print a sample of data for the internet traffic\n",
    "\n",
    "print(internet.sample(20, random_state=1369))"
   ]
  },
  {
   "cell_type": "markdown",
   "metadata": {},
   "source": [
    "id should be converted to interger data type.\n",
    "\n",
    "session date should be converted to date time format.\n",
    " "
   ]
  },
  {
   "cell_type": "markdown",
   "metadata": {
    "tags": []
   },
   "source": [
    "#### Fix data"
   ]
  },
  {
   "cell_type": "markdown",
   "metadata": {},
   "source": [
    "[Fixing obvious issues with the data given the initial observations.]"
   ]
  },
  {
   "cell_type": "code",
   "execution_count": 113,
   "metadata": {
    "tags": []
   },
   "outputs": [
    {
     "name": "stdout",
     "output_type": "stream",
     "text": [
      "0\n"
     ]
    }
   ],
   "source": [
    "# Check for fully duplicate rows\n",
    "\n",
    "print(internet.duplicated().sum())"
   ]
  },
  {
   "cell_type": "code",
   "execution_count": 114,
   "metadata": {},
   "outputs": [],
   "source": [
    "## convert id to int data type\n",
    "internet['id'] = internet['id'].astype('int')"
   ]
  },
  {
   "cell_type": "code",
   "execution_count": 115,
   "metadata": {
    "tags": []
   },
   "outputs": [],
   "source": [
    "# convert message_date to date time format\n",
    "\n",
    "internet['session_date'] = pd.to_datetime(internet['session_date'], format='%Y-%m-%d')\n"
   ]
  },
  {
   "cell_type": "markdown",
   "metadata": {},
   "source": [
    "#### Enrich data"
   ]
  },
  {
   "cell_type": "code",
   "execution_count": 116,
   "metadata": {},
   "outputs": [],
   "source": [
    "##Day of the Week: Add a column for the day of the week\n",
    "internet['day_of_week'] = internet['session_date'].dt.day_name()\n",
    "\n",
    "##Month: Add a column for the month\n",
    "internet['month'] = internet['session_date'].dt.month\n",
    "\n",
    "##Year: Add a column for the year\n",
    "internet['year'] = internet['session_date'].dt.year"
   ]
  },
  {
   "cell_type": "code",
   "execution_count": 117,
   "metadata": {},
   "outputs": [],
   "source": [
    "## change id column name to make it more descriptive\n",
    "\n",
    "internet['mb_session']= internet['id']\n"
   ]
  },
  {
   "cell_type": "code",
   "execution_count": 118,
   "metadata": {
    "tags": []
   },
   "outputs": [],
   "source": [
    "## convert mb to gb and rounded up to nearest integer\n",
    "\n",
    "internet['mb_used'] = internet['mb_used'] / 100\n",
    "\n",
    "internet['mb_used']= np.ceil(internet['mb_used'])\n",
    "\n",
    "internet['mb_used'] = internet['mb_used'].astype('int')"
   ]
  },
  {
   "cell_type": "markdown",
   "metadata": {},
   "source": [
    "#### Study plan conditions"
   ]
  },
  {
   "cell_type": "code",
   "execution_count": 119,
   "metadata": {},
   "outputs": [
    {
     "data": {
      "text/html": [
       "<div>\n",
       "<style scoped>\n",
       "    .dataframe tbody tr th:only-of-type {\n",
       "        vertical-align: middle;\n",
       "    }\n",
       "\n",
       "    .dataframe tbody tr th {\n",
       "        vertical-align: top;\n",
       "    }\n",
       "\n",
       "    .dataframe thead th {\n",
       "        text-align: right;\n",
       "    }\n",
       "</style>\n",
       "<table border=\"1\" class=\"dataframe\">\n",
       "  <thead>\n",
       "    <tr style=\"text-align: right;\">\n",
       "      <th></th>\n",
       "      <th>messages_included</th>\n",
       "      <th>mb_per_month_included</th>\n",
       "      <th>minutes_included</th>\n",
       "      <th>usd_monthly_pay</th>\n",
       "      <th>usd_per_gb</th>\n",
       "      <th>usd_per_message</th>\n",
       "      <th>usd_per_minute</th>\n",
       "      <th>plan_name</th>\n",
       "    </tr>\n",
       "  </thead>\n",
       "  <tbody>\n",
       "    <tr>\n",
       "      <th>0</th>\n",
       "      <td>50</td>\n",
       "      <td>15360</td>\n",
       "      <td>500</td>\n",
       "      <td>20.0</td>\n",
       "      <td>10.0</td>\n",
       "      <td>0.03</td>\n",
       "      <td>0.03</td>\n",
       "      <td>surf</td>\n",
       "    </tr>\n",
       "    <tr>\n",
       "      <th>1</th>\n",
       "      <td>1000</td>\n",
       "      <td>30720</td>\n",
       "      <td>3000</td>\n",
       "      <td>70.0</td>\n",
       "      <td>7.0</td>\n",
       "      <td>0.01</td>\n",
       "      <td>0.01</td>\n",
       "      <td>ultimate</td>\n",
       "    </tr>\n",
       "  </tbody>\n",
       "</table>\n",
       "</div>"
      ],
      "text/plain": [
       "   messages_included  mb_per_month_included  minutes_included  \\\n",
       "0                 50                  15360               500   \n",
       "1               1000                  30720              3000   \n",
       "\n",
       "   usd_monthly_pay  usd_per_gb  usd_per_message  usd_per_minute plan_name  \n",
       "0             20.0        10.0             0.03            0.03      surf  \n",
       "1             70.0         7.0             0.01            0.01  ultimate  "
      ]
     },
     "execution_count": 119,
     "metadata": {},
     "output_type": "execute_result"
    }
   ],
   "source": [
    "# Print out the plan conditions\n",
    "plans"
   ]
  },
  {
   "cell_type": "markdown",
   "metadata": {
    "tags": []
   },
   "source": [
    "#### 3) Aggregate data per user\n",
    "\n",
    "[Now that the data is clean, I will aggregate data per user per period in order to have just one record per user per period. It should ease the further analysis a lot.]"
   ]
  },
  {
   "cell_type": "code",
   "execution_count": 120,
   "metadata": {
    "tags": []
   },
   "outputs": [
    {
     "name": "stdout",
     "output_type": "stream",
     "text": [
      "2018\n",
      "2018\n",
      "12\n",
      "1\n"
     ]
    }
   ],
   "source": [
    "print(calls['year'].max())\n",
    "print(calls['year'].min())\n",
    "\n",
    "print(calls['month'].max())\n",
    "print(calls['month'].min())"
   ]
  },
  {
   "cell_type": "code",
   "execution_count": 121,
   "metadata": {
    "tags": []
   },
   "outputs": [],
   "source": [
    "# Calculate the number of calls made by each user per month. Save the result.\n",
    "\n",
    "calls_agg_num= calls.groupby(['user_id', 'month'])['number_calls'].count().reset_index()\n",
    "\n",
    "## note: addng reset_index() at the end converts from series to a dataframe object and this is easier to work with."
   ]
  },
  {
   "cell_type": "code",
   "execution_count": 122,
   "metadata": {
    "tags": []
   },
   "outputs": [
    {
     "data": {
      "text/plain": [
       "pandas.core.frame.DataFrame"
      ]
     },
     "execution_count": 122,
     "metadata": {},
     "output_type": "execute_result"
    }
   ],
   "source": [
    "type(calls_agg_num)"
   ]
  },
  {
   "cell_type": "code",
   "execution_count": 123,
   "metadata": {
    "tags": []
   },
   "outputs": [
    {
     "data": {
      "text/html": [
       "<div>\n",
       "<style scoped>\n",
       "    .dataframe tbody tr th:only-of-type {\n",
       "        vertical-align: middle;\n",
       "    }\n",
       "\n",
       "    .dataframe tbody tr th {\n",
       "        vertical-align: top;\n",
       "    }\n",
       "\n",
       "    .dataframe thead th {\n",
       "        text-align: right;\n",
       "    }\n",
       "</style>\n",
       "<table border=\"1\" class=\"dataframe\">\n",
       "  <thead>\n",
       "    <tr style=\"text-align: right;\">\n",
       "      <th></th>\n",
       "      <th>user_id</th>\n",
       "      <th>month</th>\n",
       "      <th>number_calls</th>\n",
       "    </tr>\n",
       "  </thead>\n",
       "  <tbody>\n",
       "    <tr>\n",
       "      <th>0</th>\n",
       "      <td>1000</td>\n",
       "      <td>12</td>\n",
       "      <td>16</td>\n",
       "    </tr>\n",
       "    <tr>\n",
       "      <th>1</th>\n",
       "      <td>1001</td>\n",
       "      <td>8</td>\n",
       "      <td>27</td>\n",
       "    </tr>\n",
       "    <tr>\n",
       "      <th>2</th>\n",
       "      <td>1001</td>\n",
       "      <td>9</td>\n",
       "      <td>49</td>\n",
       "    </tr>\n",
       "    <tr>\n",
       "      <th>3</th>\n",
       "      <td>1001</td>\n",
       "      <td>10</td>\n",
       "      <td>65</td>\n",
       "    </tr>\n",
       "    <tr>\n",
       "      <th>4</th>\n",
       "      <td>1001</td>\n",
       "      <td>11</td>\n",
       "      <td>64</td>\n",
       "    </tr>\n",
       "    <tr>\n",
       "      <th>...</th>\n",
       "      <td>...</td>\n",
       "      <td>...</td>\n",
       "      <td>...</td>\n",
       "    </tr>\n",
       "    <tr>\n",
       "      <th>2253</th>\n",
       "      <td>1498</td>\n",
       "      <td>12</td>\n",
       "      <td>39</td>\n",
       "    </tr>\n",
       "    <tr>\n",
       "      <th>2254</th>\n",
       "      <td>1499</td>\n",
       "      <td>9</td>\n",
       "      <td>41</td>\n",
       "    </tr>\n",
       "    <tr>\n",
       "      <th>2255</th>\n",
       "      <td>1499</td>\n",
       "      <td>10</td>\n",
       "      <td>53</td>\n",
       "    </tr>\n",
       "    <tr>\n",
       "      <th>2256</th>\n",
       "      <td>1499</td>\n",
       "      <td>11</td>\n",
       "      <td>45</td>\n",
       "    </tr>\n",
       "    <tr>\n",
       "      <th>2257</th>\n",
       "      <td>1499</td>\n",
       "      <td>12</td>\n",
       "      <td>65</td>\n",
       "    </tr>\n",
       "  </tbody>\n",
       "</table>\n",
       "<p>2258 rows × 3 columns</p>\n",
       "</div>"
      ],
      "text/plain": [
       "      user_id  month  number_calls\n",
       "0        1000     12            16\n",
       "1        1001      8            27\n",
       "2        1001      9            49\n",
       "3        1001     10            65\n",
       "4        1001     11            64\n",
       "...       ...    ...           ...\n",
       "2253     1498     12            39\n",
       "2254     1499      9            41\n",
       "2255     1499     10            53\n",
       "2256     1499     11            45\n",
       "2257     1499     12            65\n",
       "\n",
       "[2258 rows x 3 columns]"
      ]
     },
     "execution_count": 123,
     "metadata": {},
     "output_type": "execute_result"
    }
   ],
   "source": [
    "calls_agg_num"
   ]
  },
  {
   "cell_type": "code",
   "execution_count": 124,
   "metadata": {
    "tags": []
   },
   "outputs": [],
   "source": [
    "# Calculate the amount of minutes spent by each user per month. Save the result.\n",
    "\n",
    "calls_agg_min= calls.groupby(['user_id', 'month'])['call_total_minutes'].count().reset_index()"
   ]
  },
  {
   "cell_type": "code",
   "execution_count": 125,
   "metadata": {},
   "outputs": [],
   "source": [
    "# Calculate the number of messages sent by each user per month. Save the result.\n",
    "\n",
    "messages_agg= messages.groupby(['user_id', 'month'])['number_messages'].count().reset_index()"
   ]
  },
  {
   "cell_type": "code",
   "execution_count": 126,
   "metadata": {},
   "outputs": [],
   "source": [
    "# Calculate the volume of internet traffic used by each user per month. Save the result.\n",
    "\n",
    "internet_agg= internet.groupby(['user_id', 'month'])['mb_used'].count().reset_index()"
   ]
  },
  {
   "cell_type": "code",
   "execution_count": 127,
   "metadata": {
    "tags": []
   },
   "outputs": [
    {
     "data": {
      "text/html": [
       "<div>\n",
       "<style scoped>\n",
       "    .dataframe tbody tr th:only-of-type {\n",
       "        vertical-align: middle;\n",
       "    }\n",
       "\n",
       "    .dataframe tbody tr th {\n",
       "        vertical-align: top;\n",
       "    }\n",
       "\n",
       "    .dataframe thead th {\n",
       "        text-align: right;\n",
       "    }\n",
       "</style>\n",
       "<table border=\"1\" class=\"dataframe\">\n",
       "  <thead>\n",
       "    <tr style=\"text-align: right;\">\n",
       "      <th></th>\n",
       "      <th>user_id</th>\n",
       "      <th>month</th>\n",
       "      <th>mb_used</th>\n",
       "    </tr>\n",
       "  </thead>\n",
       "  <tbody>\n",
       "    <tr>\n",
       "      <th>0</th>\n",
       "      <td>1000</td>\n",
       "      <td>12</td>\n",
       "      <td>5</td>\n",
       "    </tr>\n",
       "    <tr>\n",
       "      <th>1</th>\n",
       "      <td>1001</td>\n",
       "      <td>8</td>\n",
       "      <td>25</td>\n",
       "    </tr>\n",
       "    <tr>\n",
       "      <th>2</th>\n",
       "      <td>1001</td>\n",
       "      <td>9</td>\n",
       "      <td>53</td>\n",
       "    </tr>\n",
       "    <tr>\n",
       "      <th>3</th>\n",
       "      <td>1001</td>\n",
       "      <td>10</td>\n",
       "      <td>56</td>\n",
       "    </tr>\n",
       "    <tr>\n",
       "      <th>4</th>\n",
       "      <td>1001</td>\n",
       "      <td>11</td>\n",
       "      <td>51</td>\n",
       "    </tr>\n",
       "    <tr>\n",
       "      <th>...</th>\n",
       "      <td>...</td>\n",
       "      <td>...</td>\n",
       "      <td>...</td>\n",
       "    </tr>\n",
       "    <tr>\n",
       "      <th>2272</th>\n",
       "      <td>1498</td>\n",
       "      <td>12</td>\n",
       "      <td>65</td>\n",
       "    </tr>\n",
       "    <tr>\n",
       "      <th>2273</th>\n",
       "      <td>1499</td>\n",
       "      <td>9</td>\n",
       "      <td>45</td>\n",
       "    </tr>\n",
       "    <tr>\n",
       "      <th>2274</th>\n",
       "      <td>1499</td>\n",
       "      <td>10</td>\n",
       "      <td>61</td>\n",
       "    </tr>\n",
       "    <tr>\n",
       "      <th>2275</th>\n",
       "      <td>1499</td>\n",
       "      <td>11</td>\n",
       "      <td>49</td>\n",
       "    </tr>\n",
       "    <tr>\n",
       "      <th>2276</th>\n",
       "      <td>1499</td>\n",
       "      <td>12</td>\n",
       "      <td>65</td>\n",
       "    </tr>\n",
       "  </tbody>\n",
       "</table>\n",
       "<p>2277 rows × 3 columns</p>\n",
       "</div>"
      ],
      "text/plain": [
       "      user_id  month  mb_used\n",
       "0        1000     12        5\n",
       "1        1001      8       25\n",
       "2        1001      9       53\n",
       "3        1001     10       56\n",
       "4        1001     11       51\n",
       "...       ...    ...      ...\n",
       "2272     1498     12       65\n",
       "2273     1499      9       45\n",
       "2274     1499     10       61\n",
       "2275     1499     11       49\n",
       "2276     1499     12       65\n",
       "\n",
       "[2277 rows x 3 columns]"
      ]
     },
     "execution_count": 127,
     "metadata": {},
     "output_type": "execute_result"
    }
   ],
   "source": [
    "internet_agg"
   ]
  },
  {
   "cell_type": "code",
   "execution_count": 128,
   "metadata": {
    "tags": []
   },
   "outputs": [
    {
     "name": "stdout",
     "output_type": "stream",
     "text": [
      "<class 'pandas.core.frame.DataFrame'>\n",
      "RangeIndex: 137735 entries, 0 to 137734\n",
      "Data columns (total 9 columns):\n",
      " #   Column              Non-Null Count   Dtype         \n",
      "---  ------              --------------   -----         \n",
      " 0   id                  137735 non-null  int32         \n",
      " 1   user_id             137735 non-null  int32         \n",
      " 2   call_date           137735 non-null  datetime64[ns]\n",
      " 3   duration            137735 non-null  int32         \n",
      " 4   day_of_week         137735 non-null  object        \n",
      " 5   month               137735 non-null  int32         \n",
      " 6   year                137735 non-null  int32         \n",
      " 7   call_total_minutes  137735 non-null  int32         \n",
      " 8   number_calls        137735 non-null  int32         \n",
      "dtypes: datetime64[ns](1), int32(7), object(1)\n",
      "memory usage: 5.8+ MB\n"
     ]
    }
   ],
   "source": [
    "calls.info()"
   ]
  },
  {
   "cell_type": "code",
   "execution_count": 129,
   "metadata": {},
   "outputs": [],
   "source": [
    "# Merge the data for calls, minutes, messages, internet based on user_id and month\n",
    "\n",
    "# calls_agg_num\n",
    "# calls_agg_min\n",
    "# messages_agg\n",
    "# internet_agg\n",
    "\n",
    "merged=calls_agg_num.merge(calls_agg_min, on=['user_id', 'month'])\n",
    "\n",
    "merged1= merged.merge(messages_agg, on=['user_id', 'month'])\n",
    "\n",
    "merged2= merged1.merge(internet_agg, on=['user_id', 'month'])\n",
    "\n"
   ]
  },
  {
   "cell_type": "code",
   "execution_count": 130,
   "metadata": {
    "tags": []
   },
   "outputs": [
    {
     "name": "stdout",
     "output_type": "stream",
     "text": [
      "<class 'pandas.core.frame.DataFrame'>\n",
      "RangeIndex: 1759 entries, 0 to 1758\n",
      "Data columns (total 6 columns):\n",
      " #   Column              Non-Null Count  Dtype\n",
      "---  ------              --------------  -----\n",
      " 0   user_id             1759 non-null   int32\n",
      " 1   month               1759 non-null   int32\n",
      " 2   number_calls        1759 non-null   int64\n",
      " 3   call_total_minutes  1759 non-null   int64\n",
      " 4   number_messages     1759 non-null   int64\n",
      " 5   mb_used             1759 non-null   int64\n",
      "dtypes: int32(2), int64(4)\n",
      "memory usage: 68.8 KB\n"
     ]
    }
   ],
   "source": [
    "merged2.info()"
   ]
  },
  {
   "cell_type": "code",
   "execution_count": 131,
   "metadata": {
    "tags": []
   },
   "outputs": [
    {
     "data": {
      "text/html": [
       "<div>\n",
       "<style scoped>\n",
       "    .dataframe tbody tr th:only-of-type {\n",
       "        vertical-align: middle;\n",
       "    }\n",
       "\n",
       "    .dataframe tbody tr th {\n",
       "        vertical-align: top;\n",
       "    }\n",
       "\n",
       "    .dataframe thead th {\n",
       "        text-align: right;\n",
       "    }\n",
       "</style>\n",
       "<table border=\"1\" class=\"dataframe\">\n",
       "  <thead>\n",
       "    <tr style=\"text-align: right;\">\n",
       "      <th></th>\n",
       "      <th>user_id</th>\n",
       "      <th>month</th>\n",
       "      <th>number_calls</th>\n",
       "      <th>call_total_minutes</th>\n",
       "      <th>number_messages</th>\n",
       "      <th>mb_used</th>\n",
       "    </tr>\n",
       "  </thead>\n",
       "  <tbody>\n",
       "    <tr>\n",
       "      <th>0</th>\n",
       "      <td>1000</td>\n",
       "      <td>12</td>\n",
       "      <td>16</td>\n",
       "      <td>16</td>\n",
       "      <td>11</td>\n",
       "      <td>5</td>\n",
       "    </tr>\n",
       "    <tr>\n",
       "      <th>1</th>\n",
       "      <td>1001</td>\n",
       "      <td>8</td>\n",
       "      <td>27</td>\n",
       "      <td>27</td>\n",
       "      <td>30</td>\n",
       "      <td>25</td>\n",
       "    </tr>\n",
       "    <tr>\n",
       "      <th>2</th>\n",
       "      <td>1001</td>\n",
       "      <td>9</td>\n",
       "      <td>49</td>\n",
       "      <td>49</td>\n",
       "      <td>44</td>\n",
       "      <td>53</td>\n",
       "    </tr>\n",
       "    <tr>\n",
       "      <th>3</th>\n",
       "      <td>1001</td>\n",
       "      <td>10</td>\n",
       "      <td>65</td>\n",
       "      <td>65</td>\n",
       "      <td>53</td>\n",
       "      <td>56</td>\n",
       "    </tr>\n",
       "    <tr>\n",
       "      <th>4</th>\n",
       "      <td>1001</td>\n",
       "      <td>11</td>\n",
       "      <td>64</td>\n",
       "      <td>64</td>\n",
       "      <td>36</td>\n",
       "      <td>51</td>\n",
       "    </tr>\n",
       "    <tr>\n",
       "      <th>...</th>\n",
       "      <td>...</td>\n",
       "      <td>...</td>\n",
       "      <td>...</td>\n",
       "      <td>...</td>\n",
       "      <td>...</td>\n",
       "      <td>...</td>\n",
       "    </tr>\n",
       "    <tr>\n",
       "      <th>1754</th>\n",
       "      <td>1496</td>\n",
       "      <td>9</td>\n",
       "      <td>52</td>\n",
       "      <td>52</td>\n",
       "      <td>21</td>\n",
       "      <td>51</td>\n",
       "    </tr>\n",
       "    <tr>\n",
       "      <th>1755</th>\n",
       "      <td>1496</td>\n",
       "      <td>10</td>\n",
       "      <td>46</td>\n",
       "      <td>46</td>\n",
       "      <td>18</td>\n",
       "      <td>54</td>\n",
       "    </tr>\n",
       "    <tr>\n",
       "      <th>1756</th>\n",
       "      <td>1496</td>\n",
       "      <td>11</td>\n",
       "      <td>39</td>\n",
       "      <td>39</td>\n",
       "      <td>13</td>\n",
       "      <td>40</td>\n",
       "    </tr>\n",
       "    <tr>\n",
       "      <th>1757</th>\n",
       "      <td>1496</td>\n",
       "      <td>12</td>\n",
       "      <td>40</td>\n",
       "      <td>40</td>\n",
       "      <td>11</td>\n",
       "      <td>53</td>\n",
       "    </tr>\n",
       "    <tr>\n",
       "      <th>1758</th>\n",
       "      <td>1497</td>\n",
       "      <td>12</td>\n",
       "      <td>54</td>\n",
       "      <td>54</td>\n",
       "      <td>50</td>\n",
       "      <td>31</td>\n",
       "    </tr>\n",
       "  </tbody>\n",
       "</table>\n",
       "<p>1759 rows × 6 columns</p>\n",
       "</div>"
      ],
      "text/plain": [
       "      user_id  month  number_calls  call_total_minutes  number_messages  \\\n",
       "0        1000     12            16                  16               11   \n",
       "1        1001      8            27                  27               30   \n",
       "2        1001      9            49                  49               44   \n",
       "3        1001     10            65                  65               53   \n",
       "4        1001     11            64                  64               36   \n",
       "...       ...    ...           ...                 ...              ...   \n",
       "1754     1496      9            52                  52               21   \n",
       "1755     1496     10            46                  46               18   \n",
       "1756     1496     11            39                  39               13   \n",
       "1757     1496     12            40                  40               11   \n",
       "1758     1497     12            54                  54               50   \n",
       "\n",
       "      mb_used  \n",
       "0           5  \n",
       "1          25  \n",
       "2          53  \n",
       "3          56  \n",
       "4          51  \n",
       "...       ...  \n",
       "1754       51  \n",
       "1755       54  \n",
       "1756       40  \n",
       "1757       53  \n",
       "1758       31  \n",
       "\n",
       "[1759 rows x 6 columns]"
      ]
     },
     "execution_count": 131,
     "metadata": {},
     "output_type": "execute_result"
    }
   ],
   "source": [
    "merged2"
   ]
  },
  {
   "cell_type": "code",
   "execution_count": 132,
   "metadata": {},
   "outputs": [],
   "source": [
    "# Add the plan information\n",
    "\n",
    "## Users dataframe has plan information and user_id that can be linked to merged dataframe\n",
    "\n",
    "merged3= merged2.merge(users, on='user_id')\n",
    "\n"
   ]
  },
  {
   "cell_type": "code",
   "execution_count": 133,
   "metadata": {
    "tags": []
   },
   "outputs": [
    {
     "name": "stdout",
     "output_type": "stream",
     "text": [
      "<class 'pandas.core.frame.DataFrame'>\n",
      "RangeIndex: 1759 entries, 0 to 1758\n",
      "Data columns (total 14 columns):\n",
      " #   Column              Non-Null Count  Dtype         \n",
      "---  ------              --------------  -----         \n",
      " 0   user_id             1759 non-null   int32         \n",
      " 1   month               1759 non-null   int32         \n",
      " 2   number_calls        1759 non-null   int64         \n",
      " 3   call_total_minutes  1759 non-null   int64         \n",
      " 4   number_messages     1759 non-null   int64         \n",
      " 5   mb_used             1759 non-null   int64         \n",
      " 6   first_name          1759 non-null   object        \n",
      " 7   last_name           1759 non-null   object        \n",
      " 8   age                 1759 non-null   int64         \n",
      " 9   city                1759 non-null   object        \n",
      " 10  reg_date            1759 non-null   datetime64[ns]\n",
      " 11  plan                1759 non-null   object        \n",
      " 12  churn_date          118 non-null    datetime64[ns]\n",
      " 13  state_info          1759 non-null   object        \n",
      "dtypes: datetime64[ns](2), int32(2), int64(5), object(5)\n",
      "memory usage: 178.8+ KB\n"
     ]
    },
    {
     "data": {
      "text/html": [
       "<div>\n",
       "<style scoped>\n",
       "    .dataframe tbody tr th:only-of-type {\n",
       "        vertical-align: middle;\n",
       "    }\n",
       "\n",
       "    .dataframe tbody tr th {\n",
       "        vertical-align: top;\n",
       "    }\n",
       "\n",
       "    .dataframe thead th {\n",
       "        text-align: right;\n",
       "    }\n",
       "</style>\n",
       "<table border=\"1\" class=\"dataframe\">\n",
       "  <thead>\n",
       "    <tr style=\"text-align: right;\">\n",
       "      <th></th>\n",
       "      <th>user_id</th>\n",
       "      <th>month</th>\n",
       "      <th>number_calls</th>\n",
       "      <th>call_total_minutes</th>\n",
       "      <th>number_messages</th>\n",
       "      <th>mb_used</th>\n",
       "      <th>first_name</th>\n",
       "      <th>last_name</th>\n",
       "      <th>age</th>\n",
       "      <th>city</th>\n",
       "      <th>reg_date</th>\n",
       "      <th>plan</th>\n",
       "      <th>churn_date</th>\n",
       "      <th>state_info</th>\n",
       "    </tr>\n",
       "  </thead>\n",
       "  <tbody>\n",
       "    <tr>\n",
       "      <th>0</th>\n",
       "      <td>1000</td>\n",
       "      <td>12</td>\n",
       "      <td>16</td>\n",
       "      <td>16</td>\n",
       "      <td>11</td>\n",
       "      <td>5</td>\n",
       "      <td>Anamaria</td>\n",
       "      <td>Bauer</td>\n",
       "      <td>45</td>\n",
       "      <td>Atlanta-Sandy Springs-Roswell</td>\n",
       "      <td>2018-12-24</td>\n",
       "      <td>ultimate</td>\n",
       "      <td>NaT</td>\n",
       "      <td>GA MSA</td>\n",
       "    </tr>\n",
       "    <tr>\n",
       "      <th>1</th>\n",
       "      <td>1001</td>\n",
       "      <td>8</td>\n",
       "      <td>27</td>\n",
       "      <td>27</td>\n",
       "      <td>30</td>\n",
       "      <td>25</td>\n",
       "      <td>Mickey</td>\n",
       "      <td>Wilkerson</td>\n",
       "      <td>28</td>\n",
       "      <td>Seattle-Tacoma-Bellevue</td>\n",
       "      <td>2018-08-13</td>\n",
       "      <td>surf</td>\n",
       "      <td>NaT</td>\n",
       "      <td>WA MSA</td>\n",
       "    </tr>\n",
       "    <tr>\n",
       "      <th>2</th>\n",
       "      <td>1001</td>\n",
       "      <td>9</td>\n",
       "      <td>49</td>\n",
       "      <td>49</td>\n",
       "      <td>44</td>\n",
       "      <td>53</td>\n",
       "      <td>Mickey</td>\n",
       "      <td>Wilkerson</td>\n",
       "      <td>28</td>\n",
       "      <td>Seattle-Tacoma-Bellevue</td>\n",
       "      <td>2018-08-13</td>\n",
       "      <td>surf</td>\n",
       "      <td>NaT</td>\n",
       "      <td>WA MSA</td>\n",
       "    </tr>\n",
       "    <tr>\n",
       "      <th>3</th>\n",
       "      <td>1001</td>\n",
       "      <td>10</td>\n",
       "      <td>65</td>\n",
       "      <td>65</td>\n",
       "      <td>53</td>\n",
       "      <td>56</td>\n",
       "      <td>Mickey</td>\n",
       "      <td>Wilkerson</td>\n",
       "      <td>28</td>\n",
       "      <td>Seattle-Tacoma-Bellevue</td>\n",
       "      <td>2018-08-13</td>\n",
       "      <td>surf</td>\n",
       "      <td>NaT</td>\n",
       "      <td>WA MSA</td>\n",
       "    </tr>\n",
       "    <tr>\n",
       "      <th>4</th>\n",
       "      <td>1001</td>\n",
       "      <td>11</td>\n",
       "      <td>64</td>\n",
       "      <td>64</td>\n",
       "      <td>36</td>\n",
       "      <td>51</td>\n",
       "      <td>Mickey</td>\n",
       "      <td>Wilkerson</td>\n",
       "      <td>28</td>\n",
       "      <td>Seattle-Tacoma-Bellevue</td>\n",
       "      <td>2018-08-13</td>\n",
       "      <td>surf</td>\n",
       "      <td>NaT</td>\n",
       "      <td>WA MSA</td>\n",
       "    </tr>\n",
       "    <tr>\n",
       "      <th>...</th>\n",
       "      <td>...</td>\n",
       "      <td>...</td>\n",
       "      <td>...</td>\n",
       "      <td>...</td>\n",
       "      <td>...</td>\n",
       "      <td>...</td>\n",
       "      <td>...</td>\n",
       "      <td>...</td>\n",
       "      <td>...</td>\n",
       "      <td>...</td>\n",
       "      <td>...</td>\n",
       "      <td>...</td>\n",
       "      <td>...</td>\n",
       "      <td>...</td>\n",
       "    </tr>\n",
       "    <tr>\n",
       "      <th>1754</th>\n",
       "      <td>1496</td>\n",
       "      <td>9</td>\n",
       "      <td>52</td>\n",
       "      <td>52</td>\n",
       "      <td>21</td>\n",
       "      <td>51</td>\n",
       "      <td>Ariel</td>\n",
       "      <td>Shepherd</td>\n",
       "      <td>49</td>\n",
       "      <td>New Orleans-Metairie</td>\n",
       "      <td>2018-02-20</td>\n",
       "      <td>surf</td>\n",
       "      <td>NaT</td>\n",
       "      <td>LA MSA</td>\n",
       "    </tr>\n",
       "    <tr>\n",
       "      <th>1755</th>\n",
       "      <td>1496</td>\n",
       "      <td>10</td>\n",
       "      <td>46</td>\n",
       "      <td>46</td>\n",
       "      <td>18</td>\n",
       "      <td>54</td>\n",
       "      <td>Ariel</td>\n",
       "      <td>Shepherd</td>\n",
       "      <td>49</td>\n",
       "      <td>New Orleans-Metairie</td>\n",
       "      <td>2018-02-20</td>\n",
       "      <td>surf</td>\n",
       "      <td>NaT</td>\n",
       "      <td>LA MSA</td>\n",
       "    </tr>\n",
       "    <tr>\n",
       "      <th>1756</th>\n",
       "      <td>1496</td>\n",
       "      <td>11</td>\n",
       "      <td>39</td>\n",
       "      <td>39</td>\n",
       "      <td>13</td>\n",
       "      <td>40</td>\n",
       "      <td>Ariel</td>\n",
       "      <td>Shepherd</td>\n",
       "      <td>49</td>\n",
       "      <td>New Orleans-Metairie</td>\n",
       "      <td>2018-02-20</td>\n",
       "      <td>surf</td>\n",
       "      <td>NaT</td>\n",
       "      <td>LA MSA</td>\n",
       "    </tr>\n",
       "    <tr>\n",
       "      <th>1757</th>\n",
       "      <td>1496</td>\n",
       "      <td>12</td>\n",
       "      <td>40</td>\n",
       "      <td>40</td>\n",
       "      <td>11</td>\n",
       "      <td>53</td>\n",
       "      <td>Ariel</td>\n",
       "      <td>Shepherd</td>\n",
       "      <td>49</td>\n",
       "      <td>New Orleans-Metairie</td>\n",
       "      <td>2018-02-20</td>\n",
       "      <td>surf</td>\n",
       "      <td>NaT</td>\n",
       "      <td>LA MSA</td>\n",
       "    </tr>\n",
       "    <tr>\n",
       "      <th>1758</th>\n",
       "      <td>1497</td>\n",
       "      <td>12</td>\n",
       "      <td>54</td>\n",
       "      <td>54</td>\n",
       "      <td>50</td>\n",
       "      <td>31</td>\n",
       "      <td>Donte</td>\n",
       "      <td>Barrera</td>\n",
       "      <td>49</td>\n",
       "      <td>Los Angeles-Long Beach-Anaheim</td>\n",
       "      <td>2018-12-10</td>\n",
       "      <td>ultimate</td>\n",
       "      <td>NaT</td>\n",
       "      <td>CA MSA</td>\n",
       "    </tr>\n",
       "  </tbody>\n",
       "</table>\n",
       "<p>1759 rows × 14 columns</p>\n",
       "</div>"
      ],
      "text/plain": [
       "      user_id  month  number_calls  call_total_minutes  number_messages  \\\n",
       "0        1000     12            16                  16               11   \n",
       "1        1001      8            27                  27               30   \n",
       "2        1001      9            49                  49               44   \n",
       "3        1001     10            65                  65               53   \n",
       "4        1001     11            64                  64               36   \n",
       "...       ...    ...           ...                 ...              ...   \n",
       "1754     1496      9            52                  52               21   \n",
       "1755     1496     10            46                  46               18   \n",
       "1756     1496     11            39                  39               13   \n",
       "1757     1496     12            40                  40               11   \n",
       "1758     1497     12            54                  54               50   \n",
       "\n",
       "      mb_used first_name  last_name  age                            city  \\\n",
       "0           5   Anamaria      Bauer   45   Atlanta-Sandy Springs-Roswell   \n",
       "1          25     Mickey  Wilkerson   28         Seattle-Tacoma-Bellevue   \n",
       "2          53     Mickey  Wilkerson   28         Seattle-Tacoma-Bellevue   \n",
       "3          56     Mickey  Wilkerson   28         Seattle-Tacoma-Bellevue   \n",
       "4          51     Mickey  Wilkerson   28         Seattle-Tacoma-Bellevue   \n",
       "...       ...        ...        ...  ...                             ...   \n",
       "1754       51      Ariel   Shepherd   49            New Orleans-Metairie   \n",
       "1755       54      Ariel   Shepherd   49            New Orleans-Metairie   \n",
       "1756       40      Ariel   Shepherd   49            New Orleans-Metairie   \n",
       "1757       53      Ariel   Shepherd   49            New Orleans-Metairie   \n",
       "1758       31      Donte    Barrera   49  Los Angeles-Long Beach-Anaheim   \n",
       "\n",
       "       reg_date      plan churn_date state_info  \n",
       "0    2018-12-24  ultimate        NaT     GA MSA  \n",
       "1    2018-08-13      surf        NaT     WA MSA  \n",
       "2    2018-08-13      surf        NaT     WA MSA  \n",
       "3    2018-08-13      surf        NaT     WA MSA  \n",
       "4    2018-08-13      surf        NaT     WA MSA  \n",
       "...         ...       ...        ...        ...  \n",
       "1754 2018-02-20      surf        NaT     LA MSA  \n",
       "1755 2018-02-20      surf        NaT     LA MSA  \n",
       "1756 2018-02-20      surf        NaT     LA MSA  \n",
       "1757 2018-02-20      surf        NaT     LA MSA  \n",
       "1758 2018-12-10  ultimate        NaT     CA MSA  \n",
       "\n",
       "[1759 rows x 14 columns]"
      ]
     },
     "execution_count": 133,
     "metadata": {},
     "output_type": "execute_result"
    }
   ],
   "source": [
    "## View merged data\n",
    "merged3.info()\n",
    "merged3"
   ]
  },
  {
   "cell_type": "code",
   "execution_count": 134,
   "metadata": {
    "tags": []
   },
   "outputs": [],
   "source": [
    "###### [Calculate the monthly revenue from each user (subtract the free package limit from the total number of calls, text messages, and data; multiply the result by the calling plan value; add the monthly charge depending on the calling plan).\n",
    "\n",
    "# Calculate the monthly revenue for each user\n",
    "\n",
    "user_monthly_usage = pd.DataFrame({\n",
    "    'user_id': [1000, 1001],\n",
    "    'year': [2018, 2018],\n",
    "    'month': [1, 12],\n",
    "    'total_minutes': [200, 300],\n",
    "    'monthly_mb_usage': [1900, 6900],\n",
    "    'number_messages': [10, 30],\n",
    "    'plan': ['surf', 'ultimate']\n",
    "})\n",
    "\n",
    "# the plans of the services\n",
    "plans = {\n",
    "    'surf': {'usd_per_minute': 0.03,\n",
    "             'usd_per_message': 0.03,\n",
    "             'usd_per_gb': 10,\n",
    "             'usd_monthly_pay': 20,\n",
    "             'minutes_included': 500,\n",
    "             'mb_per_month_included': 15360,\n",
    "             'messages_included': 50\n",
    "            },\n",
    "    'ultimate': {'usd_per_minute': 0.01,\n",
    "                 'usd_per_message': 0.01,\n",
    "                 'usd_per_gb': 7,\n",
    "                 'usd_monthly_pay': 70,\n",
    "                 'minutes_included': 3000,\n",
    "                 'mb_per_month_included': 30720,\n",
    "                 'messages_included': 1000\n",
    "                }\n",
    "}\n",
    "\n",
    "# use function to calculate revenue\n",
    "\n",
    "def monthly_revenue(row):\n",
    "    plan = plans[row['plan']]\n",
    "    minutes_charges = row['total_minutes'] - plan['minutes_included']\n",
    "    messages_charges = row['number_messages'] - plan['messages_included']\n",
    "    internet_charges = row['monthly_mb_usage'] - plan['mb_per_month_included']\n",
    "                       \n",
    "    call_cost = max(minutes_charges, 0) * plan['usd_per_minute']\n",
    "    message_cost = max(messages_charges, 0) * plan['usd_per_message']\n",
    "    internet_cost = max(internet_charges, 0) * plan['usd_per_gb']\n",
    "    total_cost = call_cost + message_cost + internet_cost + plan['usd_monthly_pay']\n",
    "                        \n",
    "    return total_cost\n",
    "\n",
    "user_monthly_usage['monthly_revenue'] = user_monthly_usage.apply(monthly_revenue, axis=1)"
   ]
  },
  {
   "cell_type": "code",
   "execution_count": 135,
   "metadata": {
    "tags": []
   },
   "outputs": [
    {
     "name": "stdout",
     "output_type": "stream",
     "text": [
      "   user_id  year  month  total_minutes  monthly_mb_usage  number_messages  \\\n",
      "0     1000  2018      1            200              1900               10   \n",
      "1     1001  2018     12            300              6900               30   \n",
      "\n",
      "       plan  monthly_revenue  \n",
      "0      surf             20.0  \n",
      "1  ultimate             70.0  \n"
     ]
    }
   ],
   "source": [
    "print(user_monthly_usage)"
   ]
  },
  {
   "cell_type": "markdown",
   "metadata": {},
   "source": [
    "#### 4) Study user behaviour"
   ]
  },
  {
   "cell_type": "markdown",
   "metadata": {},
   "source": [
    "[Here I calculate some useful descriptive statistics for the aggregated and merged data, which typically reveal an overall picture captured by the data. I will draw useful plots to help the understanding. Given that the main task is to compare the plans and decide on which one is more profitable, the statistics and the plots should be calculated on a per-plan basis.]\n"
   ]
  },
  {
   "cell_type": "code",
   "execution_count": 136,
   "metadata": {
    "tags": []
   },
   "outputs": [
    {
     "name": "stdout",
     "output_type": "stream",
     "text": [
      "<class 'pandas.core.frame.DataFrame'>\n",
      "RangeIndex: 1759 entries, 0 to 1758\n",
      "Data columns (total 14 columns):\n",
      " #   Column              Non-Null Count  Dtype         \n",
      "---  ------              --------------  -----         \n",
      " 0   user_id             1759 non-null   int32         \n",
      " 1   month               1759 non-null   int32         \n",
      " 2   number_calls        1759 non-null   int64         \n",
      " 3   call_total_minutes  1759 non-null   int64         \n",
      " 4   number_messages     1759 non-null   int64         \n",
      " 5   mb_used             1759 non-null   int64         \n",
      " 6   first_name          1759 non-null   object        \n",
      " 7   last_name           1759 non-null   object        \n",
      " 8   age                 1759 non-null   int64         \n",
      " 9   city                1759 non-null   object        \n",
      " 10  reg_date            1759 non-null   datetime64[ns]\n",
      " 11  plan                1759 non-null   object        \n",
      " 12  churn_date          118 non-null    datetime64[ns]\n",
      " 13  state_info          1759 non-null   object        \n",
      "dtypes: datetime64[ns](2), int32(2), int64(5), object(5)\n",
      "memory usage: 178.8+ KB\n"
     ]
    }
   ],
   "source": [
    "merged3.info()"
   ]
  },
  {
   "cell_type": "markdown",
   "metadata": {},
   "source": [
    "#### 4.1) Calls dataframe"
   ]
  },
  {
   "cell_type": "code",
   "execution_count": 137,
   "metadata": {},
   "outputs": [
    {
     "data": {
      "text/plain": [
       "pandas.core.series.Series"
      ]
     },
     "execution_count": 137,
     "metadata": {},
     "output_type": "execute_result"
    }
   ],
   "source": [
    "# Compare average duration of calls per each plan per each distinct month. Plot a bar plat to visualize it.\n",
    "\n",
    "merged_calls=merged3.groupby(['month','plan'])['call_total_minutes'].mean()\n",
    "\n",
    "type(merged_calls)"
   ]
  },
  {
   "cell_type": "code",
   "execution_count": 138,
   "metadata": {
    "tags": []
   },
   "outputs": [
    {
     "data": {
      "text/plain": [
       "month  plan    \n",
       "1      surf        42.000000\n",
       "       ultimate    29.666667\n",
       "2      surf        44.400000\n",
       "       ultimate    69.400000\n",
       "3      surf        48.125000\n",
       "       ultimate    61.857143\n",
       "4      surf        50.914286\n",
       "       ultimate    45.250000\n",
       "5      surf        61.886792\n",
       "       ultimate    57.904762\n",
       "6      surf        59.157143\n",
       "       ultimate    52.594595\n",
       "7      surf        63.573034\n",
       "       ultimate    60.127660\n",
       "8      surf        59.882353\n",
       "       ultimate    62.122807\n",
       "9      surf        59.653061\n",
       "       ultimate    61.690141\n",
       "10     surf        62.149171\n",
       "       ultimate    65.465909\n",
       "11     surf        62.096330\n",
       "       ultimate    64.676471\n",
       "12     surf        68.357724\n",
       "       ultimate    65.632000\n",
       "Name: call_total_minutes, dtype: float64"
      ]
     },
     "execution_count": 138,
     "metadata": {},
     "output_type": "execute_result"
    }
   ],
   "source": [
    "merged_calls"
   ]
  },
  {
   "cell_type": "code",
   "execution_count": 139,
   "metadata": {
    "tags": []
   },
   "outputs": [
    {
     "data": {
      "image/png": "[encoded data removed]",
      "text/plain": [
       "<Figure size 640x480 with 1 Axes>"
      ]
     },
     "metadata": {},
     "output_type": "display_data"
    }
   ],
   "source": [
    "import matplotlib.pyplot as plt\n",
    "\n",
    "# Reset the index to make 'month' and 'plan' columns\n",
    "merged_calls = merged_calls.reset_index()\n",
    "\n",
    "# Pivot the data for easier plotting\n",
    "pivot_calls = merged_calls.pivot(index='month', columns='plan', values='call_total_minutes')\n",
    "\n",
    "pivot_calls.plot(kind='bar',\n",
    "                 title='Average duration of calls for Surf and Ultimate plans per month',\n",
    "                 xlabel='Month',\n",
    "                 ylabel='Duration of calls in minutes')\n",
    "\n",
    "plt.legend(title='Plan')\n",
    "plt.show()"
   ]
  },
  {
   "cell_type": "code",
   "execution_count": 140,
   "metadata": {},
   "outputs": [
    {
     "data": {
      "text/plain": [
       "month  plan    \n",
       "1      surf           42\n",
       "       ultimate       89\n",
       "2      surf          222\n",
       "       ultimate      347\n",
       "3      surf          770\n",
       "       ultimate      433\n",
       "4      surf         1782\n",
       "       ultimate      724\n",
       "5      surf         3280\n",
       "       ultimate     1216\n",
       "6      surf         4141\n",
       "       ultimate     1946\n",
       "7      surf         5658\n",
       "       ultimate     2826\n",
       "8      surf         7126\n",
       "       ultimate     3541\n",
       "9      surf         8769\n",
       "       ultimate     4380\n",
       "10     surf        11249\n",
       "       ultimate     5761\n",
       "11     surf        13537\n",
       "       ultimate     6597\n",
       "12     surf        16816\n",
       "       ultimate     8204\n",
       "Name: call_total_minutes, dtype: int64"
      ]
     },
     "execution_count": 140,
     "metadata": {},
     "output_type": "execute_result"
    }
   ],
   "source": [
    "# Compare the number of minutes users of each plan require each month. Plot a histogram.\n",
    "\n",
    "merged_calls2=merged3.groupby(['month','plan'])['call_total_minutes'].sum()\n",
    "\n",
    "merged_calls2"
   ]
  },
  {
   "cell_type": "code",
   "execution_count": 141,
   "metadata": {
    "tags": []
   },
   "outputs": [
    {
     "data": {
      "image/png": "[encoded data removed]",
      "text/plain": [
       "<Figure size 640x480 with 1 Axes>"
      ]
     },
     "metadata": {},
     "output_type": "display_data"
    }
   ],
   "source": [
    "import matplotlib.pyplot as plt\n",
    "\n",
    "# Filter data by plan\n",
    "surf_minutes = merged3[merged3['plan'] == 'surf']['call_total_minutes']\n",
    "ultimate_minutes = merged3[merged3['plan'] == 'ultimate']['call_total_minutes']\n",
    "\n",
    "# Plot histograms\n",
    "plt.hist(surf_minutes, bins=30, alpha=0.5, label='Surf')\n",
    "plt.hist(ultimate_minutes, bins=30, alpha=0.5, label='Ultimate')\n",
    "\n",
    "# Add title and labels\n",
    "plt.title('Distribution of Call Durations by Plan')\n",
    "plt.xlabel('Duration of calls in minutes')\n",
    "plt.ylabel('Frequency')\n",
    "\n",
    "# Add legend\n",
    "plt.legend(title='Plan')\n",
    "plt.show()"
   ]
  },
  {
   "cell_type": "code",
   "execution_count": 142,
   "metadata": {},
   "outputs": [
    {
     "name": "stdout",
     "output_type": "stream",
     "text": [
      "       plan  mean_call_duration  variance_call_duration\n",
      "0      surf           62.196610             1025.504993\n",
      "1  ultimate           62.286701             1187.969563\n"
     ]
    }
   ],
   "source": [
    "# Calculate the mean and the variable of the call duration to reason on whether users on the different plans have different behaviours for their calls.\n",
    "## Calculate the mean and the variance of the monthly call duration\n",
    "\n",
    "\n",
    "# Calculate the mean and variance of 'total_minutes'\n",
    "call_mean_var = merged3.groupby('plan')['call_total_minutes'].agg(['mean', 'var']).reset_index()\n",
    "\n",
    "#print(call_mean_var)\n",
    "\n",
    "# Rename columns\n",
    "call_mean_var.columns = ['plan', 'mean_call_duration', 'variance_call_duration']\n",
    "\n",
    "\n",
    "print(call_mean_var)"
   ]
  },
  {
   "cell_type": "code",
   "execution_count": 143,
   "metadata": {},
   "outputs": [
    {
     "name": "stdout",
     "output_type": "stream",
     "text": [
      "       plan  call_total_minutes\n",
      "0  ultimate                  16\n",
      "1      surf                  27\n",
      "2      surf                  49\n",
      "3      surf                  65\n",
      "4      surf                  64\n"
     ]
    }
   ],
   "source": [
    "# Plot a boxplot to visualize the distribution of the monthly call duration\n",
    "\n",
    "# Ensure only necessary columns are considered\n",
    "calls_box = merged3[['plan', 'call_total_minutes']]\n",
    "\n",
    "# Display the first few rows to verify\n",
    "print(calls_box.head())"
   ]
  },
  {
   "cell_type": "code",
   "execution_count": 144,
   "metadata": {
    "tags": []
   },
   "outputs": [
    {
     "data": {
      "image/png": "[encoded data removed]",
      "text/plain": [
       "<Figure size 1200x800 with 1 Axes>"
      ]
     },
     "metadata": {},
     "output_type": "display_data"
    }
   ],
   "source": [
    "\n",
    "# Set aesthetics for the plot\n",
    "sns.set(style=\"whitegrid\")\n",
    "\n",
    "# Create boxplot\n",
    "plt.figure(figsize=(12, 8))\n",
    "sns.boxplot(data=calls_box, x='plan', y='call_total_minutes')\n",
    "\n",
    "# Add titles and labels\n",
    "plt.title('Distribution of Monthly Call Duration by Plan')\n",
    "plt.xlabel('Plan')\n",
    "plt.ylabel('Total Minutes')\n",
    "\n",
    "\n",
    "plt.tight_layout()\n",
    "plt.show()"
   ]
  },
  {
   "cell_type": "markdown",
   "metadata": {},
   "source": [
    "#####  Is user behaviour different between the plans?\n",
    "\n",
    "The call duration behavior seems similar between the two plans, as shown by the similar box sizes and median positions. However, the ultimate plan seems to accommodate some users who make exceptionally long calls, as shown by the extreme outliers at the end of the plot. There is one outlier in surf that is on the exctreme end. Despite some variations in the plots, the overall calling behavior doesn't seem drastically different between the two plans for the majority of users. "
   ]
  },
  {
   "cell_type": "markdown",
   "metadata": {},
   "source": [
    "#### 4.2) Messages dataframe"
   ]
  },
  {
   "cell_type": "code",
   "execution_count": 145,
   "metadata": {},
   "outputs": [
    {
     "name": "stdout",
     "output_type": "stream",
     "text": [
      "       plan  mean_messages  variance_messages\n",
      "0      surf      39.489831        1044.217878\n",
      "1  ultimate      46.455959        1084.393818\n"
     ]
    }
   ],
   "source": [
    "# Compare the number of messages users of each plan tend to send each month\n",
    "\n",
    "# Group by 'plan' to calculate the mean and variance of 'messages_count'\n",
    "messages_mean_var = merged3.groupby('plan')['number_messages'].agg(['mean', 'var']).reset_index()\n",
    "messages_mean_var.columns = ['plan', 'mean_messages', 'variance_messages']\n",
    "\n",
    "print(messages_mean_var)"
   ]
  },
  {
   "cell_type": "code",
   "execution_count": 146,
   "metadata": {},
   "outputs": [
    {
     "data": {
      "image/png": "[encoded data removed]",
      "text/plain": [
       "<Figure size 1200x800 with 1 Axes>"
      ]
     },
     "metadata": {},
     "output_type": "display_data"
    }
   ],
   "source": [
    "\n",
    "\n",
    "# Set the aesthetics for the plots\n",
    "sns.set(style=\"whitegrid\")\n",
    "\n",
    "# Create the boxplot\n",
    "plt.figure(figsize=(12, 8))\n",
    "sns.boxplot(data=merged3, x='plan', y='number_messages')\n",
    "\n",
    "# Add titles and labels\n",
    "plt.title('Distribution of Monthly Messages Sent by Plan')\n",
    "plt.xlabel('Plan')\n",
    "plt.ylabel('Messages Count')\n",
    "\n",
    "plt.tight_layout()\n",
    "plt.show()\n"
   ]
  },
  {
   "cell_type": "code",
   "execution_count": null,
   "metadata": {},
   "outputs": [
    {
     "data": {
      "image/png": "[encoded data removed]",
      "text/plain": [
       "<Figure size 1200x800 with 1 Axes>"
      ]
     },
     "metadata": {},
     "output_type": "display_data"
    }
   ],
   "source": [
    "\n",
    "\n",
    "# Set the aesthetics for the plots\n",
    "sns.set(style=\"whitegrid\")\n",
    "\n",
    "# Create the boxplot\n",
    "plt.figure(figsize=(12, 8))\n",
    "sns.boxplot(data=merged3, x='plan', y='number_messages')\n",
    "\n",
    "# Add titles and labels\n",
    "plt.title('Distribution of Monthly Messages Sent by Plan')\n",
    "plt.xlabel('Plan')\n",
    "plt.ylabel('Messages Count')\n",
    "\n",
    "plt.tight_layout()\n",
    "plt.show()\n"
   ]
  },
  {
   "cell_type": "markdown",
   "metadata": {},
   "source": [
    "#####  Is user behaviour different between the plans?\n",
    "\n",
    "The ultimate plan has more users who send more messages than the surf plan. The median position is higher for ultimate than surf and is longer, which suggests wider variation in messages sent. There are some users in suf plan who are outliers and send many messages compared to ultimate. "
   ]
  },
  {
   "cell_type": "markdown",
   "metadata": {},
   "source": [
    "\n",
    "#### 4.3) Internet dataframe"
   ]
  },
  {
   "cell_type": "code",
   "execution_count": 147,
   "metadata": {},
   "outputs": [],
   "source": [
    "# Compare the amount of internet traffic consumed by users per plan"
   ]
  },
  {
   "cell_type": "code",
   "execution_count": 148,
   "metadata": {},
   "outputs": [
    {
     "name": "stdout",
     "output_type": "stream",
     "text": [
      "       plan  mean_internet_usage  variance_internet_usage\n",
      "0      surf            45.666949               388.415701\n",
      "1  ultimate            46.215889               304.716287\n"
     ]
    }
   ],
   "source": [
    "# Group by 'plan' to calculate the mean and variance of 'total_mb_used'\n",
    "internet_mean_var = merged3.groupby('plan')['mb_used'].agg(['mean', 'var']).reset_index()\n",
    "\n",
    "# Rename columns for clarity\n",
    "internet_mean_var.columns = ['plan', 'mean_internet_usage', 'variance_internet_usage']\n",
    "\n",
    "# Display the results\n",
    "print(internet_mean_var)"
   ]
  },
  {
   "cell_type": "code",
   "execution_count": 149,
   "metadata": {},
   "outputs": [
    {
     "data": {
      "image/png": "[encoded data removed]",
      "text/plain": [
       "<Figure size 1200x800 with 1 Axes>"
      ]
     },
     "metadata": {},
     "output_type": "display_data"
    }
   ],
   "source": [
    "\n",
    "\n",
    "# Set the aesthetics for the plots\n",
    "sns.set(style=\"whitegrid\")\n",
    "\n",
    "# Create the boxplot\n",
    "plt.figure(figsize=(12, 8))\n",
    "sns.boxplot(data=merged3, x='plan', y='mb_used')\n",
    "\n",
    "# Add titles and labels\n",
    "plt.title('Distribution of Monthly Internet Traffic by Plan')\n",
    "plt.xlabel('Plan')\n",
    "plt.ylabel('Total MB Used')\n",
    "\n",
    "# Display the plot\n",
    "plt.tight_layout()\n",
    "plt.show()"
   ]
  },
  {
   "cell_type": "markdown",
   "metadata": {},
   "source": [
    "#####  Is user behaviour different between the plans in terms of internet traffic?\n",
    "\n",
    "The internet traffic is somewhat similar between the plans. Howeverm, the median is slightly higher for ultimate plan. There are more outliers in surf plan suggetsing taht there are some users who use a lot of internet data."
   ]
  },
  {
   "cell_type": "markdown",
   "metadata": {},
   "source": [
    "#### 4.4) Revenue dataframe"
   ]
  },
  {
   "cell_type": "code",
   "execution_count": 150,
   "metadata": {},
   "outputs": [
    {
     "data": {
      "text/html": [
       "<div>\n",
       "<style scoped>\n",
       "    .dataframe tbody tr th:only-of-type {\n",
       "        vertical-align: middle;\n",
       "    }\n",
       "\n",
       "    .dataframe tbody tr th {\n",
       "        vertical-align: top;\n",
       "    }\n",
       "\n",
       "    .dataframe thead th {\n",
       "        text-align: right;\n",
       "    }\n",
       "</style>\n",
       "<table border=\"1\" class=\"dataframe\">\n",
       "  <thead>\n",
       "    <tr style=\"text-align: right;\">\n",
       "      <th></th>\n",
       "      <th>user_id</th>\n",
       "      <th>month</th>\n",
       "      <th>number_calls</th>\n",
       "      <th>call_total_minutes</th>\n",
       "      <th>number_messages</th>\n",
       "      <th>mb_used</th>\n",
       "      <th>first_name</th>\n",
       "      <th>last_name</th>\n",
       "      <th>age</th>\n",
       "      <th>city</th>\n",
       "      <th>reg_date</th>\n",
       "      <th>plan</th>\n",
       "      <th>churn_date</th>\n",
       "      <th>state_info</th>\n",
       "    </tr>\n",
       "  </thead>\n",
       "  <tbody>\n",
       "    <tr>\n",
       "      <th>0</th>\n",
       "      <td>1000</td>\n",
       "      <td>12</td>\n",
       "      <td>16</td>\n",
       "      <td>16</td>\n",
       "      <td>11</td>\n",
       "      <td>5</td>\n",
       "      <td>Anamaria</td>\n",
       "      <td>Bauer</td>\n",
       "      <td>45</td>\n",
       "      <td>Atlanta-Sandy Springs-Roswell</td>\n",
       "      <td>2018-12-24</td>\n",
       "      <td>ultimate</td>\n",
       "      <td>NaT</td>\n",
       "      <td>GA MSA</td>\n",
       "    </tr>\n",
       "    <tr>\n",
       "      <th>1</th>\n",
       "      <td>1001</td>\n",
       "      <td>8</td>\n",
       "      <td>27</td>\n",
       "      <td>27</td>\n",
       "      <td>30</td>\n",
       "      <td>25</td>\n",
       "      <td>Mickey</td>\n",
       "      <td>Wilkerson</td>\n",
       "      <td>28</td>\n",
       "      <td>Seattle-Tacoma-Bellevue</td>\n",
       "      <td>2018-08-13</td>\n",
       "      <td>surf</td>\n",
       "      <td>NaT</td>\n",
       "      <td>WA MSA</td>\n",
       "    </tr>\n",
       "    <tr>\n",
       "      <th>2</th>\n",
       "      <td>1001</td>\n",
       "      <td>9</td>\n",
       "      <td>49</td>\n",
       "      <td>49</td>\n",
       "      <td>44</td>\n",
       "      <td>53</td>\n",
       "      <td>Mickey</td>\n",
       "      <td>Wilkerson</td>\n",
       "      <td>28</td>\n",
       "      <td>Seattle-Tacoma-Bellevue</td>\n",
       "      <td>2018-08-13</td>\n",
       "      <td>surf</td>\n",
       "      <td>NaT</td>\n",
       "      <td>WA MSA</td>\n",
       "    </tr>\n",
       "    <tr>\n",
       "      <th>3</th>\n",
       "      <td>1001</td>\n",
       "      <td>10</td>\n",
       "      <td>65</td>\n",
       "      <td>65</td>\n",
       "      <td>53</td>\n",
       "      <td>56</td>\n",
       "      <td>Mickey</td>\n",
       "      <td>Wilkerson</td>\n",
       "      <td>28</td>\n",
       "      <td>Seattle-Tacoma-Bellevue</td>\n",
       "      <td>2018-08-13</td>\n",
       "      <td>surf</td>\n",
       "      <td>NaT</td>\n",
       "      <td>WA MSA</td>\n",
       "    </tr>\n",
       "    <tr>\n",
       "      <th>4</th>\n",
       "      <td>1001</td>\n",
       "      <td>11</td>\n",
       "      <td>64</td>\n",
       "      <td>64</td>\n",
       "      <td>36</td>\n",
       "      <td>51</td>\n",
       "      <td>Mickey</td>\n",
       "      <td>Wilkerson</td>\n",
       "      <td>28</td>\n",
       "      <td>Seattle-Tacoma-Bellevue</td>\n",
       "      <td>2018-08-13</td>\n",
       "      <td>surf</td>\n",
       "      <td>NaT</td>\n",
       "      <td>WA MSA</td>\n",
       "    </tr>\n",
       "    <tr>\n",
       "      <th>...</th>\n",
       "      <td>...</td>\n",
       "      <td>...</td>\n",
       "      <td>...</td>\n",
       "      <td>...</td>\n",
       "      <td>...</td>\n",
       "      <td>...</td>\n",
       "      <td>...</td>\n",
       "      <td>...</td>\n",
       "      <td>...</td>\n",
       "      <td>...</td>\n",
       "      <td>...</td>\n",
       "      <td>...</td>\n",
       "      <td>...</td>\n",
       "      <td>...</td>\n",
       "    </tr>\n",
       "    <tr>\n",
       "      <th>1754</th>\n",
       "      <td>1496</td>\n",
       "      <td>9</td>\n",
       "      <td>52</td>\n",
       "      <td>52</td>\n",
       "      <td>21</td>\n",
       "      <td>51</td>\n",
       "      <td>Ariel</td>\n",
       "      <td>Shepherd</td>\n",
       "      <td>49</td>\n",
       "      <td>New Orleans-Metairie</td>\n",
       "      <td>2018-02-20</td>\n",
       "      <td>surf</td>\n",
       "      <td>NaT</td>\n",
       "      <td>LA MSA</td>\n",
       "    </tr>\n",
       "    <tr>\n",
       "      <th>1755</th>\n",
       "      <td>1496</td>\n",
       "      <td>10</td>\n",
       "      <td>46</td>\n",
       "      <td>46</td>\n",
       "      <td>18</td>\n",
       "      <td>54</td>\n",
       "      <td>Ariel</td>\n",
       "      <td>Shepherd</td>\n",
       "      <td>49</td>\n",
       "      <td>New Orleans-Metairie</td>\n",
       "      <td>2018-02-20</td>\n",
       "      <td>surf</td>\n",
       "      <td>NaT</td>\n",
       "      <td>LA MSA</td>\n",
       "    </tr>\n",
       "    <tr>\n",
       "      <th>1756</th>\n",
       "      <td>1496</td>\n",
       "      <td>11</td>\n",
       "      <td>39</td>\n",
       "      <td>39</td>\n",
       "      <td>13</td>\n",
       "      <td>40</td>\n",
       "      <td>Ariel</td>\n",
       "      <td>Shepherd</td>\n",
       "      <td>49</td>\n",
       "      <td>New Orleans-Metairie</td>\n",
       "      <td>2018-02-20</td>\n",
       "      <td>surf</td>\n",
       "      <td>NaT</td>\n",
       "      <td>LA MSA</td>\n",
       "    </tr>\n",
       "    <tr>\n",
       "      <th>1757</th>\n",
       "      <td>1496</td>\n",
       "      <td>12</td>\n",
       "      <td>40</td>\n",
       "      <td>40</td>\n",
       "      <td>11</td>\n",
       "      <td>53</td>\n",
       "      <td>Ariel</td>\n",
       "      <td>Shepherd</td>\n",
       "      <td>49</td>\n",
       "      <td>New Orleans-Metairie</td>\n",
       "      <td>2018-02-20</td>\n",
       "      <td>surf</td>\n",
       "      <td>NaT</td>\n",
       "      <td>LA MSA</td>\n",
       "    </tr>\n",
       "    <tr>\n",
       "      <th>1758</th>\n",
       "      <td>1497</td>\n",
       "      <td>12</td>\n",
       "      <td>54</td>\n",
       "      <td>54</td>\n",
       "      <td>50</td>\n",
       "      <td>31</td>\n",
       "      <td>Donte</td>\n",
       "      <td>Barrera</td>\n",
       "      <td>49</td>\n",
       "      <td>Los Angeles-Long Beach-Anaheim</td>\n",
       "      <td>2018-12-10</td>\n",
       "      <td>ultimate</td>\n",
       "      <td>NaT</td>\n",
       "      <td>CA MSA</td>\n",
       "    </tr>\n",
       "  </tbody>\n",
       "</table>\n",
       "<p>1759 rows × 14 columns</p>\n",
       "</div>"
      ],
      "text/plain": [
       "      user_id  month  number_calls  call_total_minutes  number_messages  \\\n",
       "0        1000     12            16                  16               11   \n",
       "1        1001      8            27                  27               30   \n",
       "2        1001      9            49                  49               44   \n",
       "3        1001     10            65                  65               53   \n",
       "4        1001     11            64                  64               36   \n",
       "...       ...    ...           ...                 ...              ...   \n",
       "1754     1496      9            52                  52               21   \n",
       "1755     1496     10            46                  46               18   \n",
       "1756     1496     11            39                  39               13   \n",
       "1757     1496     12            40                  40               11   \n",
       "1758     1497     12            54                  54               50   \n",
       "\n",
       "      mb_used first_name  last_name  age                            city  \\\n",
       "0           5   Anamaria      Bauer   45   Atlanta-Sandy Springs-Roswell   \n",
       "1          25     Mickey  Wilkerson   28         Seattle-Tacoma-Bellevue   \n",
       "2          53     Mickey  Wilkerson   28         Seattle-Tacoma-Bellevue   \n",
       "3          56     Mickey  Wilkerson   28         Seattle-Tacoma-Bellevue   \n",
       "4          51     Mickey  Wilkerson   28         Seattle-Tacoma-Bellevue   \n",
       "...       ...        ...        ...  ...                             ...   \n",
       "1754       51      Ariel   Shepherd   49            New Orleans-Metairie   \n",
       "1755       54      Ariel   Shepherd   49            New Orleans-Metairie   \n",
       "1756       40      Ariel   Shepherd   49            New Orleans-Metairie   \n",
       "1757       53      Ariel   Shepherd   49            New Orleans-Metairie   \n",
       "1758       31      Donte    Barrera   49  Los Angeles-Long Beach-Anaheim   \n",
       "\n",
       "       reg_date      plan churn_date state_info  \n",
       "0    2018-12-24  ultimate        NaT     GA MSA  \n",
       "1    2018-08-13      surf        NaT     WA MSA  \n",
       "2    2018-08-13      surf        NaT     WA MSA  \n",
       "3    2018-08-13      surf        NaT     WA MSA  \n",
       "4    2018-08-13      surf        NaT     WA MSA  \n",
       "...         ...       ...        ...        ...  \n",
       "1754 2018-02-20      surf        NaT     LA MSA  \n",
       "1755 2018-02-20      surf        NaT     LA MSA  \n",
       "1756 2018-02-20      surf        NaT     LA MSA  \n",
       "1757 2018-02-20      surf        NaT     LA MSA  \n",
       "1758 2018-12-10  ultimate        NaT     CA MSA  \n",
       "\n",
       "[1759 rows x 14 columns]"
      ]
     },
     "execution_count": 150,
     "metadata": {},
     "output_type": "execute_result"
    }
   ],
   "source": [
    "# Compare the amount of revenue consumed by users per plan\n",
    "merged3"
   ]
  },
  {
   "cell_type": "code",
   "execution_count": 151,
   "metadata": {
    "tags": []
   },
   "outputs": [
    {
     "name": "stderr",
     "output_type": "stream",
     "text": [
      "C:\\Users\\candi\\AppData\\Local\\Temp\\ipykernel_19076\\1797658400.py:41: SettingWithCopyWarning: \n",
      "A value is trying to be set on a copy of a slice from a DataFrame.\n",
      "Try using .loc[row_indexer,col_indexer] = value instead\n",
      "\n",
      "See the caveats in the documentation: https://pandas.pydata.org/pandas-docs/stable/user_guide/indexing.html#returning-a-view-versus-a-copy\n",
      "  revenue_data['monthly_revenue'] = revenue_data.apply(monthly_revenue, axis=1)\n"
     ]
    }
   ],
   "source": [
    "# Calculate the monthly revenue for each user\n",
    "\n",
    "# Select only necessary columns \n",
    "revenue_data = merged3[['user_id', 'plan', 'month', 'call_total_minutes', 'number_messages', 'mb_used']]\n",
    "\n",
    "# the plans of the services in dictionary\n",
    "plans = {\n",
    "    'surf': {'usd_per_minute': 0.03,\n",
    "             'usd_per_message': 0.03,\n",
    "             'usd_per_gb': 10,\n",
    "             'usd_monthly_pay': 20,\n",
    "             'minutes_included': 500,\n",
    "             'mb_per_month_included': 15360,\n",
    "             'messages_included': 50\n",
    "            },\n",
    "    'ultimate': {'usd_per_minute': 0.01,\n",
    "                 'usd_per_message': 0.01,\n",
    "                 'usd_per_gb': 7,\n",
    "                 'usd_monthly_pay': 70,\n",
    "                 'minutes_included': 3000,\n",
    "                 'mb_per_month_included': 30720,\n",
    "                 'messages_included': 1000\n",
    "                }\n",
    "}\n",
    "\n",
    "# use function to calculate revenue\n",
    "\n",
    "def monthly_revenue(row):\n",
    "    plan = plans[row['plan']]\n",
    "    minutes_charges = row['call_total_minutes'] - plan['minutes_included']\n",
    "    messages_charges = row['number_messages'] - plan['messages_included']\n",
    "    internet_charges = row['mb_used'] - plan['mb_per_month_included']\n",
    "                       \n",
    "    call_cost = max(minutes_charges, 0) * plan['usd_per_minute']\n",
    "    message_cost = max(messages_charges, 0) * plan['usd_per_message']\n",
    "    internet_cost = max(internet_charges, 0) * plan['usd_per_gb']\n",
    "    total_cost = call_cost + message_cost + internet_cost + plan['usd_monthly_pay']\n",
    "                        \n",
    "    return total_cost\n",
    "\n",
    "revenue_data['monthly_revenue'] = revenue_data.apply(monthly_revenue, axis=1)"
   ]
  },
  {
   "cell_type": "code",
   "execution_count": 152,
   "metadata": {
    "tags": []
   },
   "outputs": [
    {
     "data": {
      "text/html": [
       "<div>\n",
       "<style scoped>\n",
       "    .dataframe tbody tr th:only-of-type {\n",
       "        vertical-align: middle;\n",
       "    }\n",
       "\n",
       "    .dataframe tbody tr th {\n",
       "        vertical-align: top;\n",
       "    }\n",
       "\n",
       "    .dataframe thead th {\n",
       "        text-align: right;\n",
       "    }\n",
       "</style>\n",
       "<table border=\"1\" class=\"dataframe\">\n",
       "  <thead>\n",
       "    <tr style=\"text-align: right;\">\n",
       "      <th></th>\n",
       "      <th>user_id</th>\n",
       "      <th>plan</th>\n",
       "      <th>month</th>\n",
       "      <th>call_total_minutes</th>\n",
       "      <th>number_messages</th>\n",
       "      <th>mb_used</th>\n",
       "      <th>monthly_revenue</th>\n",
       "    </tr>\n",
       "  </thead>\n",
       "  <tbody>\n",
       "    <tr>\n",
       "      <th>0</th>\n",
       "      <td>1000</td>\n",
       "      <td>ultimate</td>\n",
       "      <td>12</td>\n",
       "      <td>16</td>\n",
       "      <td>11</td>\n",
       "      <td>5</td>\n",
       "      <td>70.00</td>\n",
       "    </tr>\n",
       "    <tr>\n",
       "      <th>1</th>\n",
       "      <td>1001</td>\n",
       "      <td>surf</td>\n",
       "      <td>8</td>\n",
       "      <td>27</td>\n",
       "      <td>30</td>\n",
       "      <td>25</td>\n",
       "      <td>20.00</td>\n",
       "    </tr>\n",
       "    <tr>\n",
       "      <th>2</th>\n",
       "      <td>1001</td>\n",
       "      <td>surf</td>\n",
       "      <td>9</td>\n",
       "      <td>49</td>\n",
       "      <td>44</td>\n",
       "      <td>53</td>\n",
       "      <td>20.00</td>\n",
       "    </tr>\n",
       "    <tr>\n",
       "      <th>3</th>\n",
       "      <td>1001</td>\n",
       "      <td>surf</td>\n",
       "      <td>10</td>\n",
       "      <td>65</td>\n",
       "      <td>53</td>\n",
       "      <td>56</td>\n",
       "      <td>20.09</td>\n",
       "    </tr>\n",
       "    <tr>\n",
       "      <th>4</th>\n",
       "      <td>1001</td>\n",
       "      <td>surf</td>\n",
       "      <td>11</td>\n",
       "      <td>64</td>\n",
       "      <td>36</td>\n",
       "      <td>51</td>\n",
       "      <td>20.00</td>\n",
       "    </tr>\n",
       "    <tr>\n",
       "      <th>...</th>\n",
       "      <td>...</td>\n",
       "      <td>...</td>\n",
       "      <td>...</td>\n",
       "      <td>...</td>\n",
       "      <td>...</td>\n",
       "      <td>...</td>\n",
       "      <td>...</td>\n",
       "    </tr>\n",
       "    <tr>\n",
       "      <th>1754</th>\n",
       "      <td>1496</td>\n",
       "      <td>surf</td>\n",
       "      <td>9</td>\n",
       "      <td>52</td>\n",
       "      <td>21</td>\n",
       "      <td>51</td>\n",
       "      <td>20.00</td>\n",
       "    </tr>\n",
       "    <tr>\n",
       "      <th>1755</th>\n",
       "      <td>1496</td>\n",
       "      <td>surf</td>\n",
       "      <td>10</td>\n",
       "      <td>46</td>\n",
       "      <td>18</td>\n",
       "      <td>54</td>\n",
       "      <td>20.00</td>\n",
       "    </tr>\n",
       "    <tr>\n",
       "      <th>1756</th>\n",
       "      <td>1496</td>\n",
       "      <td>surf</td>\n",
       "      <td>11</td>\n",
       "      <td>39</td>\n",
       "      <td>13</td>\n",
       "      <td>40</td>\n",
       "      <td>20.00</td>\n",
       "    </tr>\n",
       "    <tr>\n",
       "      <th>1757</th>\n",
       "      <td>1496</td>\n",
       "      <td>surf</td>\n",
       "      <td>12</td>\n",
       "      <td>40</td>\n",
       "      <td>11</td>\n",
       "      <td>53</td>\n",
       "      <td>20.00</td>\n",
       "    </tr>\n",
       "    <tr>\n",
       "      <th>1758</th>\n",
       "      <td>1497</td>\n",
       "      <td>ultimate</td>\n",
       "      <td>12</td>\n",
       "      <td>54</td>\n",
       "      <td>50</td>\n",
       "      <td>31</td>\n",
       "      <td>70.00</td>\n",
       "    </tr>\n",
       "  </tbody>\n",
       "</table>\n",
       "<p>1759 rows × 7 columns</p>\n",
       "</div>"
      ],
      "text/plain": [
       "      user_id      plan  month  call_total_minutes  number_messages  mb_used  \\\n",
       "0        1000  ultimate     12                  16               11        5   \n",
       "1        1001      surf      8                  27               30       25   \n",
       "2        1001      surf      9                  49               44       53   \n",
       "3        1001      surf     10                  65               53       56   \n",
       "4        1001      surf     11                  64               36       51   \n",
       "...       ...       ...    ...                 ...              ...      ...   \n",
       "1754     1496      surf      9                  52               21       51   \n",
       "1755     1496      surf     10                  46               18       54   \n",
       "1756     1496      surf     11                  39               13       40   \n",
       "1757     1496      surf     12                  40               11       53   \n",
       "1758     1497  ultimate     12                  54               50       31   \n",
       "\n",
       "      monthly_revenue  \n",
       "0               70.00  \n",
       "1               20.00  \n",
       "2               20.00  \n",
       "3               20.09  \n",
       "4               20.00  \n",
       "...               ...  \n",
       "1754            20.00  \n",
       "1755            20.00  \n",
       "1756            20.00  \n",
       "1757            20.00  \n",
       "1758            70.00  \n",
       "\n",
       "[1759 rows x 7 columns]"
      ]
     },
     "execution_count": 152,
     "metadata": {},
     "output_type": "execute_result"
    }
   ],
   "source": [
    "revenue_data"
   ]
  },
  {
   "cell_type": "code",
   "execution_count": 153,
   "metadata": {},
   "outputs": [
    {
     "name": "stdout",
     "output_type": "stream",
     "text": [
      "       plan  mean_revenue  variance_revenue\n",
      "0      surf     20.257314          0.395499\n",
      "1  ultimate     70.000000          0.000000\n"
     ]
    }
   ],
   "source": [
    "# Group by 'plan' to calculate the mean and variance of 'monthly_revenue'\n",
    "revenue_mean_var = revenue_data.groupby('plan')['monthly_revenue'].agg(['mean', 'var']).reset_index()\n",
    "\n",
    "# Rename columns for clarity\n",
    "revenue_mean_var.columns = ['plan', 'mean_revenue', 'variance_revenue']\n",
    "\n",
    "print(revenue_mean_var)"
   ]
  },
  {
   "cell_type": "code",
   "execution_count": 154,
   "metadata": {},
   "outputs": [
    {
     "data": {
      "image/png": "[encoded data removed]",
      "text/plain": [
       "<Figure size 1000x500 with 1 Axes>"
      ]
     },
     "metadata": {},
     "output_type": "display_data"
    }
   ],
   "source": [
    "\n",
    "# Set the aesthetics for the plots\n",
    "sns.set(style=\"whitegrid\")\n",
    "\n",
    "# Create the boxplot\n",
    "plt.figure(figsize=(10,5))\n",
    "sns.boxplot(data=revenue_data, x='plan', y='monthly_revenue')\n",
    "\n",
    "# Add titles and labels\n",
    "plt.title('Distribution of Monthly Revenue by Plan')\n",
    "plt.xlabel('Plan')\n",
    "plt.ylabel('Monthly Revenue')\n",
    "\n",
    "# Display the plot\n",
    "plt.tight_layout()\n",
    "plt.show()"
   ]
  },
  {
   "cell_type": "markdown",
   "metadata": {},
   "source": [
    "##### How does the revenue differs between the plans.\n",
    "\n",
    "On average, the ultimate plan has a much higher monthly revenue compared to surf plan. The surf plan has a few outliers who seem to spend more mor eon their account than average users."
   ]
  },
  {
   "cell_type": "markdown",
   "metadata": {},
   "source": [
    "#### 5) Test statistical hypotheses"
   ]
  },
  {
   "cell_type": "markdown",
   "metadata": {},
   "source": [
    "Test the hypothesis that the average revenue from users of the Ultimate and Surf calling plans differs.\n",
    "Formulate two-tailed hypotheses:\n",
    "\n",
    "* Null Hypothesis (H0): The average revenue from users of the Ultimate and Surf calling plans are equal.\n",
    "* Alternative Hypothesis (H1): The average revenue from users of the Ultimate and Surf calling plans are not equal."
   ]
  },
  {
   "cell_type": "code",
   "execution_count": 155,
   "metadata": {
    "tags": []
   },
   "outputs": [
    {
     "name": "stdout",
     "output_type": "stream",
     "text": [
      "Ultimate Plan Revenue:\n",
      "count    579.0\n",
      "mean      70.0\n",
      "std        0.0\n",
      "min       70.0\n",
      "25%       70.0\n",
      "50%       70.0\n",
      "75%       70.0\n",
      "max       70.0\n",
      "Name: monthly_revenue, dtype: float64\n",
      "\n",
      "Surf Plan:\n",
      "count    1180.000000\n",
      "mean       20.257314\n",
      "std         0.628887\n",
      "min        20.000000\n",
      "25%        20.000000\n",
      "50%        20.000000\n",
      "75%        20.090000\n",
      "max        26.480000\n",
      "Name: monthly_revenue, dtype: float64\n"
     ]
    }
   ],
   "source": [
    "\n",
    "# Filter data for ultimate and surf plan revenue\n",
    "ultimate_revenue = revenue_data[revenue_data['plan'] == 'ultimate']['monthly_revenue']\n",
    "surf_revenue = revenue_data[revenue_data['plan'] == 'surf']['monthly_revenue']\n",
    "\n",
    "print(\"Ultimate Plan Revenue:\")\n",
    "print(ultimate_revenue.describe())\n",
    "\n",
    "print(\"\\nSurf Plan:\")\n",
    "print(surf_revenue.describe())"
   ]
  },
  {
   "cell_type": "code",
   "execution_count": 156,
   "metadata": {},
   "outputs": [
    {
     "name": "stdout",
     "output_type": "stream",
     "text": [
      "T-statistic: 2717.048699950823\n",
      "P-value: 0.0\n",
      "Reject the null hypothesis: There is a significant difference in average revenue between Ultimate and Surf plans.\n"
     ]
    },
    {
     "name": "stderr",
     "output_type": "stream",
     "text": [
      "c:\\Users\\candi\\anaconda3\\envs\\sklearn-env\\Lib\\site-packages\\scipy\\stats\\_axis_nan_policy.py:573: RuntimeWarning: Precision loss occurred in moment calculation due to catastrophic cancellation. This occurs when the data are nearly identical. Results may be unreliable.\n",
      "  res = hypotest_fun_out(*samples, **kwds)\n"
     ]
    }
   ],
   "source": [
    "# Test the hypotheses\n",
    "\n",
    "# Two-sample t-test\n",
    "t_stat, p_value = st.ttest_ind(ultimate_revenue, surf_revenue, equal_var=False)\n",
    "\n",
    "print(f'T-statistic: {t_stat}')\n",
    "print(f'P-value: {p_value}')\n",
    "\n",
    "alpha = 0.05 ## There is a 5% risk of concluding that an observed difference exists when there is no actual difference.\n",
    "\n",
    "if p_value < alpha:\n",
    "    print(\"Reject the null hypothesis: There is a significant difference in average revenue between Ultimate and Surf plans.\")\n",
    "else:\n",
    "    print(\"Fail to reject the null hypothesis: There is no significant difference in average revenue between Ultimate and Surf plans.\")\n"
   ]
  },
  {
   "cell_type": "markdown",
   "metadata": {},
   "source": [
    "Test the hypothesis that the average revenue from users in the NY-NJ area is different from that of the users from the other regions.\n",
    "\n",
    "\n",
    "Formulate two-tailed hypotheses:\n",
    "\n",
    "* Null Hypothesis (H0): The average revenue from users in the NY-NJ area and all other regions in the US are equal.\n",
    "* Alternative Hypothesis (H1): The average revenue from users in the NY-NJ area and other regions in the US are not equal."
   ]
  },
  {
   "cell_type": "code",
   "execution_count": 157,
   "metadata": {
    "tags": []
   },
   "outputs": [
    {
     "name": "stdout",
     "output_type": "stream",
     "text": [
      "NY-NJ Region Revenue Statistics:\n",
      "count    279.000000\n",
      "mean      31.033835\n",
      "std       20.651751\n",
      "min       20.000000\n",
      "25%       20.000000\n",
      "50%       20.000000\n",
      "75%       21.215000\n",
      "max       70.000000\n",
      "Name: monthly_revenue, dtype: float64\n",
      "\n",
      "Other Regions Revenue Statistics:\n",
      "count    1480.000000\n",
      "mean       37.685939\n",
      "std        23.726225\n",
      "min        20.000000\n",
      "25%        20.000000\n",
      "50%        20.270000\n",
      "75%        70.000000\n",
      "max        70.000000\n",
      "Name: monthly_revenue, dtype: float64\n"
     ]
    }
   ],
   "source": [
    "# merge revenue_data and users data frames to get 'city'\n",
    "revenue_data2= revenue_data.merge(users, on='user_id')\n",
    "\n",
    "# Filter data for NY-NJ area and all other regions in US\n",
    "ny_nj_revenue = revenue_data2[revenue_data2['city'] == 'New York-Newark-Jersey City']['monthly_revenue']\n",
    "other_regions_revenue = revenue_data2[revenue_data2['city'] != 'New York-Newark-Jersey City']['monthly_revenue']\n",
    "\n",
    "print(\"NY-NJ Region Revenue Statistics:\")\n",
    "print(ny_nj_revenue.describe())\n",
    "\n",
    "print(\"\\nOther Regions Revenue Statistics:\")\n",
    "print(other_regions_revenue.describe())"
   ]
  },
  {
   "cell_type": "code",
   "execution_count": 158,
   "metadata": {
    "tags": []
   },
   "outputs": [
    {
     "name": "stdout",
     "output_type": "stream",
     "text": [
      "T-statistic: -4.814533971083261\n",
      "P-value: 2.049151090542024e-06\n",
      "Reject the null hypothesis: There is a significant difference in average revenue between NY-NJ area and other regions.\n"
     ]
    }
   ],
   "source": [
    "# Test the hypotheses:\n",
    "\n",
    "# Perform the two-sample t-test\n",
    "t_stat, p_value = st.ttest_ind(ny_nj_revenue, other_regions_revenue, equal_var=False)\n",
    "\n",
    "# Display the test results\n",
    "print(f'T-statistic: {t_stat}')\n",
    "print(f'P-value: {p_value}')\n",
    "\n",
    "# Define the alpha value\n",
    "alpha = 0.05\n",
    "\n",
    "# Determine whether to reject the null hypothesis\n",
    "if p_value < alpha:\n",
    "    print(\"Reject the null hypothesis: There is a significant difference in average revenue between NY-NJ area and other regions.\")\n",
    "else:\n",
    "    print(\"Fail to reject the null hypothesis: There is no significant difference in average revenue between NY-NJ area and other regions.\")"
   ]
  },
  {
   "cell_type": "markdown",
   "metadata": {},
   "source": [
    "The p-value is less than alpha so we can reject the null hypothesis and conclude there is a statistically signifincat difference in revenue between NY-NJ are and other regions.\n"
   ]
  },
  {
   "cell_type": "markdown",
   "metadata": {},
   "source": [
    "### General conclusion\n",
    "\n",
    "In terms of the plans, there is a significant difference in average revenue between Ultimate and Surf plans. The Ultimate plan has a higher monthly revenue than the surf plan.\n",
    "\n",
    "There is also a significant diffence between regions. Other regions seem to have a hgher monthly revenue than the NY-NJ area.\n",
    "\n",
    "\n"
   ]
  }
 ],
 "metadata": {
  "ExecuteTimeLog": [
   {
    "duration": 828,
    "start_time": "2021-11-16T09:21:11.304Z"
   },
   {
    "duration": 893,
    "start_time": "2021-11-16T09:21:17.728Z"
   },
   {
    "duration": 1150,
    "start_time": "2021-11-16T09:21:29.568Z"
   },
   {
    "duration": 3,
    "start_time": "2021-11-16T09:24:14.495Z"
   },
   {
    "duration": 120,
    "start_time": "2021-11-16T09:24:46.630Z"
   },
   {
    "duration": 3,
    "start_time": "2021-11-16T09:28:27.882Z"
   },
   {
    "duration": 4,
    "start_time": "2021-11-16T09:29:54.281Z"
   },
   {
    "duration": 3,
    "start_time": "2021-11-16T09:30:45.936Z"
   },
   {
    "duration": 4,
    "start_time": "2021-11-16T09:31:06.300Z"
   },
   {
    "duration": 113,
    "start_time": "2021-11-16T09:31:37.208Z"
   },
   {
    "duration": 143,
    "start_time": "2021-11-16T09:31:48.656Z"
   },
   {
    "duration": 98,
    "start_time": "2021-11-16T09:31:55.678Z"
   },
   {
    "duration": 3,
    "start_time": "2021-11-16T09:32:08.535Z"
   },
   {
    "duration": 111,
    "start_time": "2021-11-16T09:32:10.120Z"
   },
   {
    "duration": 3,
    "start_time": "2021-11-16T09:32:15.732Z"
   },
   {
    "duration": 4,
    "start_time": "2021-11-16T09:32:29.423Z"
   },
   {
    "duration": 3,
    "start_time": "2021-11-16T10:03:03.074Z"
   },
   {
    "duration": 3,
    "start_time": "2021-11-16T10:10:01.288Z"
   },
   {
    "duration": 3,
    "start_time": "2021-11-16T10:10:46.923Z"
   },
   {
    "duration": 121,
    "start_time": "2021-11-16T10:37:46.494Z"
   },
   {
    "duration": 125,
    "start_time": "2021-11-16T10:38:20.632Z"
   },
   {
    "duration": 112,
    "start_time": "2021-11-16T10:46:53.001Z"
   },
   {
    "duration": 110,
    "start_time": "2021-11-16T10:48:25.775Z"
   },
   {
    "duration": 3,
    "start_time": "2021-11-16T10:50:18.720Z"
   },
   {
    "duration": 4,
    "start_time": "2021-11-16T10:50:37.649Z"
   },
   {
    "duration": 2,
    "start_time": "2021-11-16T10:50:51.884Z"
   },
   {
    "duration": 3,
    "start_time": "2021-11-16T10:51:56.237Z"
   },
   {
    "duration": 101,
    "start_time": "2021-11-16T10:53:13.791Z"
   },
   {
    "duration": 3,
    "start_time": "2021-11-16T10:55:59.186Z"
   },
   {
    "duration": 3,
    "start_time": "2021-11-16T10:56:10.751Z"
   },
   {
    "duration": 3,
    "start_time": "2021-11-16T10:56:49.038Z"
   },
   {
    "duration": 3,
    "start_time": "2021-11-16T10:56:49.174Z"
   },
   {
    "duration": 4,
    "start_time": "2021-11-16T10:56:49.414Z"
   },
   {
    "duration": 3,
    "start_time": "2021-11-16T10:56:49.680Z"
   },
   {
    "duration": 3,
    "start_time": "2021-11-16T10:56:50.370Z"
   },
   {
    "duration": 114,
    "start_time": "2021-11-16T10:59:34.518Z"
   },
   {
    "duration": 3,
    "start_time": "2021-11-16T11:01:41.201Z"
   },
   {
    "duration": 116,
    "start_time": "2021-11-16T11:01:48.754Z"
   },
   {
    "duration": 3,
    "start_time": "2021-11-16T11:02:16.685Z"
   },
   {
    "duration": 3,
    "start_time": "2021-11-16T11:02:19.479Z"
   },
   {
    "duration": 3,
    "start_time": "2021-11-16T11:02:47.067Z"
   },
   {
    "duration": 3,
    "start_time": "2021-11-16T11:02:49.353Z"
   },
   {
    "duration": 3,
    "start_time": "2021-11-16T11:03:07.835Z"
   },
   {
    "duration": 3,
    "start_time": "2021-11-16T11:03:07.953Z"
   },
   {
    "duration": 112,
    "start_time": "2021-11-16T11:07:52.072Z"
   },
   {
    "duration": 187,
    "start_time": "2021-11-16T11:09:23.468Z"
   },
   {
    "duration": 4,
    "start_time": "2021-11-16T11:10:01.455Z"
   },
   {
    "duration": 3,
    "start_time": "2021-11-16T11:10:05.069Z"
   },
   {
    "duration": 4,
    "start_time": "2021-11-16T11:10:13.376Z"
   },
   {
    "duration": 3,
    "start_time": "2021-11-16T11:10:14.434Z"
   },
   {
    "duration": 3,
    "start_time": "2021-11-16T11:10:22.853Z"
   },
   {
    "duration": 4,
    "start_time": "2021-11-16T11:27:29.279Z"
   },
   {
    "duration": 4,
    "start_time": "2021-11-16T11:29:08.919Z"
   },
   {
    "duration": 118,
    "start_time": "2021-11-16T11:29:46.703Z"
   },
   {
    "duration": 437,
    "start_time": "2021-11-16T11:36:02.181Z"
   },
   {
    "duration": 157,
    "start_time": "2021-11-16T11:36:14.388Z"
   },
   {
    "duration": 207,
    "start_time": "2021-11-16T11:47:15.898Z"
   },
   {
    "duration": 3,
    "start_time": "2021-11-16T11:53:52.092Z"
   },
   {
    "duration": 3,
    "start_time": "2021-11-16T11:53:52.236Z"
   },
   {
    "duration": 3,
    "start_time": "2021-11-16T11:59:12.005Z"
   },
   {
    "duration": 112,
    "start_time": "2021-11-16T12:00:33.446Z"
   },
   {
    "duration": 3,
    "start_time": "2021-11-16T12:02:14.453Z"
   },
   {
    "duration": 3,
    "start_time": "2021-11-16T12:02:39.512Z"
   },
   {
    "duration": 106,
    "start_time": "2021-11-16T12:03:03.460Z"
   },
   {
    "duration": 3,
    "start_time": "2021-11-17T20:37:21.139Z"
   },
   {
    "duration": 3,
    "start_time": "2021-11-17T20:37:22.229Z"
   },
   {
    "duration": 3,
    "start_time": "2021-11-17T20:38:38.806Z"
   },
   {
    "duration": 3,
    "start_time": "2021-11-17T20:38:41.958Z"
   },
   {
    "duration": 3,
    "start_time": "2021-11-17T20:43:46.551Z"
   },
   {
    "duration": 4,
    "start_time": "2021-11-17T20:58:21.835Z"
   },
   {
    "duration": 3,
    "start_time": "2021-11-17T20:59:21.872Z"
   },
   {
    "duration": 4,
    "start_time": "2021-11-17T20:59:45.352Z"
   },
   {
    "duration": 4,
    "start_time": "2021-11-17T20:59:49.646Z"
   },
   {
    "duration": 159,
    "start_time": "2021-11-17T21:02:26.949Z"
   },
   {
    "duration": 3,
    "start_time": "2021-11-17T21:03:53.461Z"
   },
   {
    "duration": 3,
    "start_time": "2021-11-17T21:03:53.694Z"
   },
   {
    "duration": 3,
    "start_time": "2021-11-17T21:05:28.145Z"
   },
   {
    "duration": 116,
    "start_time": "2021-11-17T21:05:57.787Z"
   },
   {
    "duration": 3,
    "start_time": "2021-11-17T21:06:37.993Z"
   },
   {
    "duration": 3,
    "start_time": "2021-11-17T21:06:38.261Z"
   },
   {
    "duration": 3,
    "start_time": "2021-11-17T21:11:54.358Z"
   },
   {
    "duration": 3,
    "start_time": "2021-11-17T21:12:43.846Z"
   },
   {
    "duration": 4,
    "start_time": "2021-11-17T21:13:08.773Z"
   },
   {
    "duration": 3,
    "start_time": "2021-11-17T21:14:44.441Z"
   },
   {
    "duration": 3,
    "start_time": "2021-11-17T21:15:42.059Z"
   },
   {
    "duration": 4,
    "start_time": "2021-11-17T21:15:51.995Z"
   },
   {
    "duration": 3,
    "start_time": "2021-11-17T21:15:53.923Z"
   },
   {
    "duration": 3,
    "start_time": "2021-11-17T21:15:55.282Z"
   },
   {
    "duration": 3,
    "start_time": "2021-11-17T21:16:28.492Z"
   },
   {
    "duration": 3,
    "start_time": "2021-11-17T21:16:32.603Z"
   },
   {
    "duration": 3,
    "start_time": "2021-11-17T21:17:06.941Z"
   },
   {
    "duration": 98,
    "start_time": "2021-11-17T21:18:05.733Z"
   },
   {
    "duration": 4,
    "start_time": "2021-11-17T21:21:35.255Z"
   },
   {
    "duration": 3,
    "start_time": "2021-11-17T21:21:37.804Z"
   },
   {
    "duration": 4,
    "start_time": "2021-11-17T21:23:06.071Z"
   },
   {
    "duration": 3,
    "start_time": "2021-11-17T21:23:24.799Z"
   },
   {
    "duration": 3,
    "start_time": "2021-11-17T21:23:32.591Z"
   },
   {
    "duration": 98,
    "start_time": "2021-11-17T21:28:31.559Z"
   },
   {
    "duration": 3,
    "start_time": "2021-11-17T21:28:45.448Z"
   },
   {
    "duration": 3,
    "start_time": "2021-11-17T21:29:17.303Z"
   },
   {
    "duration": 3,
    "start_time": "2021-11-17T21:29:29.617Z"
   },
   {
    "duration": 3,
    "start_time": "2021-11-17T21:29:32.681Z"
   },
   {
    "duration": 3,
    "start_time": "2021-11-17T21:36:11.474Z"
   },
   {
    "duration": 3,
    "start_time": "2021-11-17T21:36:14.791Z"
   },
   {
    "duration": 3,
    "start_time": "2021-11-17T21:36:53.943Z"
   },
   {
    "duration": 3,
    "start_time": "2021-11-17T21:36:56.165Z"
   },
   {
    "duration": 4,
    "start_time": "2021-11-17T21:37:16.590Z"
   },
   {
    "duration": 3,
    "start_time": "2021-11-17T21:37:22.702Z"
   },
   {
    "duration": 4,
    "start_time": "2021-11-17T21:38:03.479Z"
   },
   {
    "duration": 3,
    "start_time": "2021-11-17T21:38:08.601Z"
   },
   {
    "duration": 3,
    "start_time": "2021-11-17T21:38:12.928Z"
   },
   {
    "duration": 3,
    "start_time": "2021-11-17T21:38:48.896Z"
   },
   {
    "duration": 2,
    "start_time": "2021-11-17T21:38:49.171Z"
   },
   {
    "duration": 4,
    "start_time": "2021-11-17T21:39:57.889Z"
   },
   {
    "duration": 3,
    "start_time": "2021-11-17T21:39:58.057Z"
   },
   {
    "duration": 3,
    "start_time": "2021-11-17T21:41:20.108Z"
   },
   {
    "duration": 3,
    "start_time": "2021-11-17T21:41:20.629Z"
   },
   {
    "duration": 3,
    "start_time": "2021-11-17T21:42:49.136Z"
   },
   {
    "duration": 3,
    "start_time": "2021-11-17T21:43:15.137Z"
   },
   {
    "duration": 4,
    "start_time": "2021-11-17T21:43:16.766Z"
   },
   {
    "duration": 4,
    "start_time": "2021-11-17T21:43:31.711Z"
   },
   {
    "duration": 3,
    "start_time": "2021-11-17T21:43:36.312Z"
   },
   {
    "duration": 4,
    "start_time": "2021-11-17T21:45:08.825Z"
   },
   {
    "duration": 4,
    "start_time": "2021-11-17T21:45:10.119Z"
   },
   {
    "duration": 4,
    "start_time": "2021-11-17T21:45:13.748Z"
   },
   {
    "duration": 3,
    "start_time": "2021-11-17T21:45:22.219Z"
   },
   {
    "duration": 3,
    "start_time": "2021-11-17T21:45:33.412Z"
   },
   {
    "duration": 2,
    "start_time": "2021-11-17T21:46:01.885Z"
   },
   {
    "duration": 3,
    "start_time": "2021-11-17T21:46:03.628Z"
   },
   {
    "duration": 107,
    "start_time": "2021-11-17T21:47:32.512Z"
   },
   {
    "duration": 103,
    "start_time": "2021-11-17T21:50:36.243Z"
   },
   {
    "duration": 3,
    "start_time": "2021-11-18T06:28:31.440Z"
   },
   {
    "duration": 3,
    "start_time": "2021-11-18T06:29:00.168Z"
   },
   {
    "duration": 3,
    "start_time": "2021-11-18T06:31:27.008Z"
   },
   {
    "duration": 2,
    "start_time": "2021-11-18T06:35:34.288Z"
   },
   {
    "duration": 2,
    "start_time": "2021-11-18T06:38:04.527Z"
   }
  ],
  "kernelspec": {
   "display_name": "sklearn-env",
   "language": "python",
   "name": "python3"
  },
  "language_info": {
   "codemirror_mode": {
    "name": "ipython",
    "version": 3
   },
   "file_extension": ".py",
   "mimetype": "text/x-python",
   "name": "python",
   "nbconvert_exporter": "python",
   "pygments_lexer": "ipython3",
   "version": "3.12.5"
  },
  "toc": {
   "base_numbering": 1,
   "nav_menu": {},
   "number_sections": true,
   "sideBar": true,
   "skip_h1_title": false,
   "title_cell": "Table of Contents",
   "title_sidebar": "Contents",
   "toc_cell": false,
   "toc_position": {},
   "toc_section_display": true,
   "toc_window_display": true
  }
 },
 "nbformat": 4,
 "nbformat_minor": 4
}
